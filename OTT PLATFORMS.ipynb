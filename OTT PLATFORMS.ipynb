{
 "cells": [
  {
   "cell_type": "markdown",
   "id": "77879b94",
   "metadata": {},
   "source": [
    "### IMPORTING NECESSARY LIBRARIES:"
   ]
  },
  {
   "cell_type": "code",
   "execution_count": 1,
   "id": "83e50351",
   "metadata": {},
   "outputs": [],
   "source": [
    "import pandas as pd\n",
    "import numpy as np\n",
    "import matplotlib.pyplot as plt\n",
    "import seaborn as sns\n",
    "%matplotlib inline\n",
    "\n",
    "\n",
    "import warnings\n",
    "warnings.filterwarnings(\"ignore\")"
   ]
  },
  {
   "cell_type": "markdown",
   "id": "8ae74ec1",
   "metadata": {},
   "source": [
    "### READING THE DATASET:"
   ]
  },
  {
   "cell_type": "code",
   "execution_count": 2,
   "id": "d3f2facc",
   "metadata": {},
   "outputs": [],
   "source": [
    "movies=pd.read_csv('OTT Platforms.csv')"
   ]
  },
  {
   "cell_type": "code",
   "execution_count": 3,
   "id": "659f32ee",
   "metadata": {},
   "outputs": [
    {
     "data": {
      "text/html": [
       "<div>\n",
       "<style scoped>\n",
       "    .dataframe tbody tr th:only-of-type {\n",
       "        vertical-align: middle;\n",
       "    }\n",
       "\n",
       "    .dataframe tbody tr th {\n",
       "        vertical-align: top;\n",
       "    }\n",
       "\n",
       "    .dataframe thead th {\n",
       "        text-align: right;\n",
       "    }\n",
       "</style>\n",
       "<table border=\"1\" class=\"dataframe\">\n",
       "  <thead>\n",
       "    <tr style=\"text-align: right;\">\n",
       "      <th></th>\n",
       "      <th>Unnamed: 0</th>\n",
       "      <th>ID</th>\n",
       "      <th>Title</th>\n",
       "      <th>Year</th>\n",
       "      <th>Age</th>\n",
       "      <th>IMDb</th>\n",
       "      <th>Rotten Tomatoes</th>\n",
       "      <th>Netflix</th>\n",
       "      <th>Hulu</th>\n",
       "      <th>Prime Video</th>\n",
       "      <th>Disney+</th>\n",
       "      <th>Type</th>\n",
       "      <th>Directors</th>\n",
       "      <th>Genres</th>\n",
       "      <th>Country</th>\n",
       "      <th>Language</th>\n",
       "      <th>Runtime</th>\n",
       "    </tr>\n",
       "  </thead>\n",
       "  <tbody>\n",
       "    <tr>\n",
       "      <th>0</th>\n",
       "      <td>0</td>\n",
       "      <td>1</td>\n",
       "      <td>Inception</td>\n",
       "      <td>2010</td>\n",
       "      <td>13+</td>\n",
       "      <td>8.8</td>\n",
       "      <td>87%</td>\n",
       "      <td>1</td>\n",
       "      <td>0</td>\n",
       "      <td>0</td>\n",
       "      <td>0</td>\n",
       "      <td>0</td>\n",
       "      <td>Christopher Nolan</td>\n",
       "      <td>Action,Adventure,Sci-Fi,Thriller</td>\n",
       "      <td>United States,United Kingdom</td>\n",
       "      <td>English,Japanese,French</td>\n",
       "      <td>148.0</td>\n",
       "    </tr>\n",
       "    <tr>\n",
       "      <th>1</th>\n",
       "      <td>1</td>\n",
       "      <td>2</td>\n",
       "      <td>The Matrix</td>\n",
       "      <td>1999</td>\n",
       "      <td>18+</td>\n",
       "      <td>8.7</td>\n",
       "      <td>87%</td>\n",
       "      <td>1</td>\n",
       "      <td>0</td>\n",
       "      <td>0</td>\n",
       "      <td>0</td>\n",
       "      <td>0</td>\n",
       "      <td>Lana Wachowski,Lilly Wachowski</td>\n",
       "      <td>Action,Sci-Fi</td>\n",
       "      <td>United States</td>\n",
       "      <td>English</td>\n",
       "      <td>136.0</td>\n",
       "    </tr>\n",
       "    <tr>\n",
       "      <th>2</th>\n",
       "      <td>2</td>\n",
       "      <td>3</td>\n",
       "      <td>Avengers: Infinity War</td>\n",
       "      <td>2018</td>\n",
       "      <td>13+</td>\n",
       "      <td>8.5</td>\n",
       "      <td>84%</td>\n",
       "      <td>1</td>\n",
       "      <td>0</td>\n",
       "      <td>0</td>\n",
       "      <td>0</td>\n",
       "      <td>0</td>\n",
       "      <td>Anthony Russo,Joe Russo</td>\n",
       "      <td>Action,Adventure,Sci-Fi</td>\n",
       "      <td>United States</td>\n",
       "      <td>English</td>\n",
       "      <td>149.0</td>\n",
       "    </tr>\n",
       "    <tr>\n",
       "      <th>3</th>\n",
       "      <td>3</td>\n",
       "      <td>4</td>\n",
       "      <td>Back to the Future</td>\n",
       "      <td>1985</td>\n",
       "      <td>7+</td>\n",
       "      <td>8.5</td>\n",
       "      <td>96%</td>\n",
       "      <td>1</td>\n",
       "      <td>0</td>\n",
       "      <td>0</td>\n",
       "      <td>0</td>\n",
       "      <td>0</td>\n",
       "      <td>Robert Zemeckis</td>\n",
       "      <td>Adventure,Comedy,Sci-Fi</td>\n",
       "      <td>United States</td>\n",
       "      <td>English</td>\n",
       "      <td>116.0</td>\n",
       "    </tr>\n",
       "    <tr>\n",
       "      <th>4</th>\n",
       "      <td>4</td>\n",
       "      <td>5</td>\n",
       "      <td>The Good, the Bad and the Ugly</td>\n",
       "      <td>1966</td>\n",
       "      <td>18+</td>\n",
       "      <td>8.8</td>\n",
       "      <td>97%</td>\n",
       "      <td>1</td>\n",
       "      <td>0</td>\n",
       "      <td>1</td>\n",
       "      <td>0</td>\n",
       "      <td>0</td>\n",
       "      <td>Sergio Leone</td>\n",
       "      <td>Western</td>\n",
       "      <td>Italy,Spain,West Germany</td>\n",
       "      <td>Italian</td>\n",
       "      <td>161.0</td>\n",
       "    </tr>\n",
       "    <tr>\n",
       "      <th>5</th>\n",
       "      <td>5</td>\n",
       "      <td>6</td>\n",
       "      <td>Spider-Man: Into the Spider-Verse</td>\n",
       "      <td>2018</td>\n",
       "      <td>7+</td>\n",
       "      <td>8.4</td>\n",
       "      <td>97%</td>\n",
       "      <td>1</td>\n",
       "      <td>0</td>\n",
       "      <td>0</td>\n",
       "      <td>0</td>\n",
       "      <td>0</td>\n",
       "      <td>Bob Persichetti,Peter Ramsey,Rodney Rothman</td>\n",
       "      <td>Animation,Action,Adventure,Family,Sci-Fi</td>\n",
       "      <td>United States</td>\n",
       "      <td>English,Spanish</td>\n",
       "      <td>117.0</td>\n",
       "    </tr>\n",
       "    <tr>\n",
       "      <th>6</th>\n",
       "      <td>6</td>\n",
       "      <td>7</td>\n",
       "      <td>The Pianist</td>\n",
       "      <td>2002</td>\n",
       "      <td>18+</td>\n",
       "      <td>8.5</td>\n",
       "      <td>95%</td>\n",
       "      <td>1</td>\n",
       "      <td>0</td>\n",
       "      <td>1</td>\n",
       "      <td>0</td>\n",
       "      <td>0</td>\n",
       "      <td>Roman Polanski</td>\n",
       "      <td>Biography,Drama,Music,War</td>\n",
       "      <td>United Kingdom,France,Poland,Germany</td>\n",
       "      <td>English,German,Russian</td>\n",
       "      <td>150.0</td>\n",
       "    </tr>\n",
       "    <tr>\n",
       "      <th>7</th>\n",
       "      <td>7</td>\n",
       "      <td>8</td>\n",
       "      <td>Django Unchained</td>\n",
       "      <td>2012</td>\n",
       "      <td>18+</td>\n",
       "      <td>8.4</td>\n",
       "      <td>87%</td>\n",
       "      <td>1</td>\n",
       "      <td>0</td>\n",
       "      <td>0</td>\n",
       "      <td>0</td>\n",
       "      <td>0</td>\n",
       "      <td>Quentin Tarantino</td>\n",
       "      <td>Drama,Western</td>\n",
       "      <td>United States</td>\n",
       "      <td>English,German,French,Italian</td>\n",
       "      <td>165.0</td>\n",
       "    </tr>\n",
       "    <tr>\n",
       "      <th>8</th>\n",
       "      <td>8</td>\n",
       "      <td>9</td>\n",
       "      <td>Raiders of the Lost Ark</td>\n",
       "      <td>1981</td>\n",
       "      <td>7+</td>\n",
       "      <td>8.4</td>\n",
       "      <td>95%</td>\n",
       "      <td>1</td>\n",
       "      <td>0</td>\n",
       "      <td>0</td>\n",
       "      <td>0</td>\n",
       "      <td>0</td>\n",
       "      <td>Steven Spielberg</td>\n",
       "      <td>Action,Adventure</td>\n",
       "      <td>United States</td>\n",
       "      <td>English,German,Hebrew,Spanish,Arabic,Nepali</td>\n",
       "      <td>115.0</td>\n",
       "    </tr>\n",
       "    <tr>\n",
       "      <th>9</th>\n",
       "      <td>9</td>\n",
       "      <td>10</td>\n",
       "      <td>Inglourious Basterds</td>\n",
       "      <td>2009</td>\n",
       "      <td>18+</td>\n",
       "      <td>8.3</td>\n",
       "      <td>89%</td>\n",
       "      <td>1</td>\n",
       "      <td>0</td>\n",
       "      <td>0</td>\n",
       "      <td>0</td>\n",
       "      <td>0</td>\n",
       "      <td>Quentin Tarantino</td>\n",
       "      <td>Adventure,Drama,War</td>\n",
       "      <td>Germany,United States</td>\n",
       "      <td>English,German,French,Italian</td>\n",
       "      <td>153.0</td>\n",
       "    </tr>\n",
       "  </tbody>\n",
       "</table>\n",
       "</div>"
      ],
      "text/plain": [
       "   Unnamed: 0  ID                              Title  Year  Age  IMDb   \n",
       "0           0   1                          Inception  2010  13+   8.8  \\\n",
       "1           1   2                         The Matrix  1999  18+   8.7   \n",
       "2           2   3             Avengers: Infinity War  2018  13+   8.5   \n",
       "3           3   4                 Back to the Future  1985   7+   8.5   \n",
       "4           4   5     The Good, the Bad and the Ugly  1966  18+   8.8   \n",
       "5           5   6  Spider-Man: Into the Spider-Verse  2018   7+   8.4   \n",
       "6           6   7                        The Pianist  2002  18+   8.5   \n",
       "7           7   8                   Django Unchained  2012  18+   8.4   \n",
       "8           8   9            Raiders of the Lost Ark  1981   7+   8.4   \n",
       "9           9  10               Inglourious Basterds  2009  18+   8.3   \n",
       "\n",
       "  Rotten Tomatoes  Netflix  Hulu  Prime Video  Disney+  Type   \n",
       "0             87%        1     0            0        0     0  \\\n",
       "1             87%        1     0            0        0     0   \n",
       "2             84%        1     0            0        0     0   \n",
       "3             96%        1     0            0        0     0   \n",
       "4             97%        1     0            1        0     0   \n",
       "5             97%        1     0            0        0     0   \n",
       "6             95%        1     0            1        0     0   \n",
       "7             87%        1     0            0        0     0   \n",
       "8             95%        1     0            0        0     0   \n",
       "9             89%        1     0            0        0     0   \n",
       "\n",
       "                                     Directors   \n",
       "0                            Christopher Nolan  \\\n",
       "1               Lana Wachowski,Lilly Wachowski   \n",
       "2                      Anthony Russo,Joe Russo   \n",
       "3                              Robert Zemeckis   \n",
       "4                                 Sergio Leone   \n",
       "5  Bob Persichetti,Peter Ramsey,Rodney Rothman   \n",
       "6                               Roman Polanski   \n",
       "7                            Quentin Tarantino   \n",
       "8                             Steven Spielberg   \n",
       "9                            Quentin Tarantino   \n",
       "\n",
       "                                     Genres   \n",
       "0          Action,Adventure,Sci-Fi,Thriller  \\\n",
       "1                             Action,Sci-Fi   \n",
       "2                   Action,Adventure,Sci-Fi   \n",
       "3                   Adventure,Comedy,Sci-Fi   \n",
       "4                                   Western   \n",
       "5  Animation,Action,Adventure,Family,Sci-Fi   \n",
       "6                 Biography,Drama,Music,War   \n",
       "7                             Drama,Western   \n",
       "8                          Action,Adventure   \n",
       "9                       Adventure,Drama,War   \n",
       "\n",
       "                                Country   \n",
       "0          United States,United Kingdom  \\\n",
       "1                         United States   \n",
       "2                         United States   \n",
       "3                         United States   \n",
       "4              Italy,Spain,West Germany   \n",
       "5                         United States   \n",
       "6  United Kingdom,France,Poland,Germany   \n",
       "7                         United States   \n",
       "8                         United States   \n",
       "9                 Germany,United States   \n",
       "\n",
       "                                      Language  Runtime  \n",
       "0                      English,Japanese,French    148.0  \n",
       "1                                      English    136.0  \n",
       "2                                      English    149.0  \n",
       "3                                      English    116.0  \n",
       "4                                      Italian    161.0  \n",
       "5                              English,Spanish    117.0  \n",
       "6                       English,German,Russian    150.0  \n",
       "7                English,German,French,Italian    165.0  \n",
       "8  English,German,Hebrew,Spanish,Arabic,Nepali    115.0  \n",
       "9                English,German,French,Italian    153.0  "
      ]
     },
     "execution_count": 3,
     "metadata": {},
     "output_type": "execute_result"
    }
   ],
   "source": [
    "movies.head(10)"
   ]
  },
  {
   "cell_type": "code",
   "execution_count": 4,
   "id": "32525357",
   "metadata": {},
   "outputs": [
    {
     "data": {
      "text/html": [
       "<div>\n",
       "<style scoped>\n",
       "    .dataframe tbody tr th:only-of-type {\n",
       "        vertical-align: middle;\n",
       "    }\n",
       "\n",
       "    .dataframe tbody tr th {\n",
       "        vertical-align: top;\n",
       "    }\n",
       "\n",
       "    .dataframe thead th {\n",
       "        text-align: right;\n",
       "    }\n",
       "</style>\n",
       "<table border=\"1\" class=\"dataframe\">\n",
       "  <thead>\n",
       "    <tr style=\"text-align: right;\">\n",
       "      <th></th>\n",
       "      <th>Unnamed: 0</th>\n",
       "      <th>ID</th>\n",
       "      <th>Title</th>\n",
       "      <th>Year</th>\n",
       "      <th>Age</th>\n",
       "      <th>IMDb</th>\n",
       "      <th>Rotten Tomatoes</th>\n",
       "      <th>Netflix</th>\n",
       "      <th>Hulu</th>\n",
       "      <th>Prime Video</th>\n",
       "      <th>Disney+</th>\n",
       "      <th>Type</th>\n",
       "      <th>Directors</th>\n",
       "      <th>Genres</th>\n",
       "      <th>Country</th>\n",
       "      <th>Language</th>\n",
       "      <th>Runtime</th>\n",
       "    </tr>\n",
       "  </thead>\n",
       "  <tbody>\n",
       "    <tr>\n",
       "      <th>16734</th>\n",
       "      <td>16734</td>\n",
       "      <td>16735</td>\n",
       "      <td>Sultan And The Rock Star</td>\n",
       "      <td>1980</td>\n",
       "      <td>NaN</td>\n",
       "      <td>5.9</td>\n",
       "      <td>NaN</td>\n",
       "      <td>0</td>\n",
       "      <td>0</td>\n",
       "      <td>0</td>\n",
       "      <td>1</td>\n",
       "      <td>0</td>\n",
       "      <td>Edward M. Abroms</td>\n",
       "      <td>Adventure,Drama,Family</td>\n",
       "      <td>United States</td>\n",
       "      <td>English</td>\n",
       "      <td>60.0</td>\n",
       "    </tr>\n",
       "    <tr>\n",
       "      <th>16735</th>\n",
       "      <td>16735</td>\n",
       "      <td>16736</td>\n",
       "      <td>Secrets of the King Cobra</td>\n",
       "      <td>2010</td>\n",
       "      <td>NaN</td>\n",
       "      <td>6.4</td>\n",
       "      <td>NaN</td>\n",
       "      <td>0</td>\n",
       "      <td>0</td>\n",
       "      <td>0</td>\n",
       "      <td>1</td>\n",
       "      <td>0</td>\n",
       "      <td>NaN</td>\n",
       "      <td>Documentary</td>\n",
       "      <td>India</td>\n",
       "      <td>English</td>\n",
       "      <td>NaN</td>\n",
       "    </tr>\n",
       "    <tr>\n",
       "      <th>16736</th>\n",
       "      <td>16736</td>\n",
       "      <td>16737</td>\n",
       "      <td>Winged Seduction: Birds of Paradise</td>\n",
       "      <td>2012</td>\n",
       "      <td>NaN</td>\n",
       "      <td>6.5</td>\n",
       "      <td>NaN</td>\n",
       "      <td>0</td>\n",
       "      <td>0</td>\n",
       "      <td>0</td>\n",
       "      <td>1</td>\n",
       "      <td>0</td>\n",
       "      <td>Molly Hermann</td>\n",
       "      <td>Documentary</td>\n",
       "      <td>United States</td>\n",
       "      <td>English</td>\n",
       "      <td>NaN</td>\n",
       "    </tr>\n",
       "    <tr>\n",
       "      <th>16737</th>\n",
       "      <td>16737</td>\n",
       "      <td>16738</td>\n",
       "      <td>The Bears and I</td>\n",
       "      <td>1974</td>\n",
       "      <td>all</td>\n",
       "      <td>6.2</td>\n",
       "      <td>NaN</td>\n",
       "      <td>0</td>\n",
       "      <td>0</td>\n",
       "      <td>0</td>\n",
       "      <td>1</td>\n",
       "      <td>0</td>\n",
       "      <td>Bernard McEveety</td>\n",
       "      <td>Drama,Family</td>\n",
       "      <td>United States</td>\n",
       "      <td>English</td>\n",
       "      <td>89.0</td>\n",
       "    </tr>\n",
       "    <tr>\n",
       "      <th>16738</th>\n",
       "      <td>16738</td>\n",
       "      <td>16739</td>\n",
       "      <td>Whispers: An Elephant's Tale</td>\n",
       "      <td>2000</td>\n",
       "      <td>all</td>\n",
       "      <td>5.0</td>\n",
       "      <td>NaN</td>\n",
       "      <td>0</td>\n",
       "      <td>0</td>\n",
       "      <td>0</td>\n",
       "      <td>1</td>\n",
       "      <td>0</td>\n",
       "      <td>Dereck Joubert</td>\n",
       "      <td>Adventure,Family</td>\n",
       "      <td>United States</td>\n",
       "      <td>English</td>\n",
       "      <td>72.0</td>\n",
       "    </tr>\n",
       "    <tr>\n",
       "      <th>16739</th>\n",
       "      <td>16739</td>\n",
       "      <td>16740</td>\n",
       "      <td>The Ghosts of Buxley Hall</td>\n",
       "      <td>1980</td>\n",
       "      <td>NaN</td>\n",
       "      <td>6.2</td>\n",
       "      <td>NaN</td>\n",
       "      <td>0</td>\n",
       "      <td>0</td>\n",
       "      <td>0</td>\n",
       "      <td>1</td>\n",
       "      <td>0</td>\n",
       "      <td>Bruce Bilson</td>\n",
       "      <td>Comedy,Family,Fantasy,Horror</td>\n",
       "      <td>United States</td>\n",
       "      <td>English</td>\n",
       "      <td>120.0</td>\n",
       "    </tr>\n",
       "    <tr>\n",
       "      <th>16740</th>\n",
       "      <td>16740</td>\n",
       "      <td>16741</td>\n",
       "      <td>The Poof Point</td>\n",
       "      <td>2001</td>\n",
       "      <td>7+</td>\n",
       "      <td>4.7</td>\n",
       "      <td>NaN</td>\n",
       "      <td>0</td>\n",
       "      <td>0</td>\n",
       "      <td>0</td>\n",
       "      <td>1</td>\n",
       "      <td>0</td>\n",
       "      <td>Neal Israel</td>\n",
       "      <td>Comedy,Family,Sci-Fi</td>\n",
       "      <td>United States</td>\n",
       "      <td>English</td>\n",
       "      <td>90.0</td>\n",
       "    </tr>\n",
       "    <tr>\n",
       "      <th>16741</th>\n",
       "      <td>16741</td>\n",
       "      <td>16742</td>\n",
       "      <td>Sharks of Lost Island</td>\n",
       "      <td>2013</td>\n",
       "      <td>NaN</td>\n",
       "      <td>5.7</td>\n",
       "      <td>NaN</td>\n",
       "      <td>0</td>\n",
       "      <td>0</td>\n",
       "      <td>0</td>\n",
       "      <td>1</td>\n",
       "      <td>0</td>\n",
       "      <td>Neil Gelinas</td>\n",
       "      <td>Documentary</td>\n",
       "      <td>United States</td>\n",
       "      <td>English</td>\n",
       "      <td>NaN</td>\n",
       "    </tr>\n",
       "    <tr>\n",
       "      <th>16742</th>\n",
       "      <td>16742</td>\n",
       "      <td>16743</td>\n",
       "      <td>Man Among Cheetahs</td>\n",
       "      <td>2017</td>\n",
       "      <td>NaN</td>\n",
       "      <td>6.6</td>\n",
       "      <td>NaN</td>\n",
       "      <td>0</td>\n",
       "      <td>0</td>\n",
       "      <td>0</td>\n",
       "      <td>1</td>\n",
       "      <td>0</td>\n",
       "      <td>Richard Slater-Jones</td>\n",
       "      <td>Documentary</td>\n",
       "      <td>United States</td>\n",
       "      <td>English</td>\n",
       "      <td>NaN</td>\n",
       "    </tr>\n",
       "    <tr>\n",
       "      <th>16743</th>\n",
       "      <td>16743</td>\n",
       "      <td>16744</td>\n",
       "      <td>In Beaver Valley</td>\n",
       "      <td>1950</td>\n",
       "      <td>NaN</td>\n",
       "      <td>NaN</td>\n",
       "      <td>NaN</td>\n",
       "      <td>0</td>\n",
       "      <td>0</td>\n",
       "      <td>0</td>\n",
       "      <td>1</td>\n",
       "      <td>0</td>\n",
       "      <td>James Algar</td>\n",
       "      <td>Documentary,Short,Family</td>\n",
       "      <td>United States</td>\n",
       "      <td>English</td>\n",
       "      <td>32.0</td>\n",
       "    </tr>\n",
       "  </tbody>\n",
       "</table>\n",
       "</div>"
      ],
      "text/plain": [
       "       Unnamed: 0     ID                                Title  Year  Age   \n",
       "16734       16734  16735             Sultan And The Rock Star  1980  NaN  \\\n",
       "16735       16735  16736            Secrets of the King Cobra  2010  NaN   \n",
       "16736       16736  16737  Winged Seduction: Birds of Paradise  2012  NaN   \n",
       "16737       16737  16738                      The Bears and I  1974  all   \n",
       "16738       16738  16739         Whispers: An Elephant's Tale  2000  all   \n",
       "16739       16739  16740            The Ghosts of Buxley Hall  1980  NaN   \n",
       "16740       16740  16741                       The Poof Point  2001   7+   \n",
       "16741       16741  16742                Sharks of Lost Island  2013  NaN   \n",
       "16742       16742  16743                   Man Among Cheetahs  2017  NaN   \n",
       "16743       16743  16744                     In Beaver Valley  1950  NaN   \n",
       "\n",
       "       IMDb Rotten Tomatoes  Netflix  Hulu  Prime Video  Disney+  Type   \n",
       "16734   5.9             NaN        0     0            0        1     0  \\\n",
       "16735   6.4             NaN        0     0            0        1     0   \n",
       "16736   6.5             NaN        0     0            0        1     0   \n",
       "16737   6.2             NaN        0     0            0        1     0   \n",
       "16738   5.0             NaN        0     0            0        1     0   \n",
       "16739   6.2             NaN        0     0            0        1     0   \n",
       "16740   4.7             NaN        0     0            0        1     0   \n",
       "16741   5.7             NaN        0     0            0        1     0   \n",
       "16742   6.6             NaN        0     0            0        1     0   \n",
       "16743   NaN             NaN        0     0            0        1     0   \n",
       "\n",
       "                  Directors                        Genres        Country   \n",
       "16734      Edward M. Abroms        Adventure,Drama,Family  United States  \\\n",
       "16735                   NaN                   Documentary          India   \n",
       "16736         Molly Hermann                   Documentary  United States   \n",
       "16737      Bernard McEveety                  Drama,Family  United States   \n",
       "16738        Dereck Joubert              Adventure,Family  United States   \n",
       "16739          Bruce Bilson  Comedy,Family,Fantasy,Horror  United States   \n",
       "16740           Neal Israel          Comedy,Family,Sci-Fi  United States   \n",
       "16741          Neil Gelinas                   Documentary  United States   \n",
       "16742  Richard Slater-Jones                   Documentary  United States   \n",
       "16743           James Algar      Documentary,Short,Family  United States   \n",
       "\n",
       "      Language  Runtime  \n",
       "16734  English     60.0  \n",
       "16735  English      NaN  \n",
       "16736  English      NaN  \n",
       "16737  English     89.0  \n",
       "16738  English     72.0  \n",
       "16739  English    120.0  \n",
       "16740  English     90.0  \n",
       "16741  English      NaN  \n",
       "16742  English      NaN  \n",
       "16743  English     32.0  "
      ]
     },
     "execution_count": 4,
     "metadata": {},
     "output_type": "execute_result"
    }
   ],
   "source": [
    "movies.tail(10)"
   ]
  },
  {
   "cell_type": "markdown",
   "id": "0c444fc0",
   "metadata": {},
   "source": [
    "### ACCESSING THE DATA:"
   ]
  },
  {
   "cell_type": "code",
   "execution_count": 5,
   "id": "55bf09ee",
   "metadata": {},
   "outputs": [
    {
     "data": {
      "text/plain": [
       "(16744, 17)"
      ]
     },
     "execution_count": 5,
     "metadata": {},
     "output_type": "execute_result"
    }
   ],
   "source": [
    "movies.shape"
   ]
  },
  {
   "cell_type": "code",
   "execution_count": 6,
   "id": "291c8f7d",
   "metadata": {},
   "outputs": [
    {
     "name": "stdout",
     "output_type": "stream",
     "text": [
      "<class 'pandas.core.frame.DataFrame'>\n",
      "RangeIndex: 16744 entries, 0 to 16743\n",
      "Data columns (total 17 columns):\n",
      " #   Column           Non-Null Count  Dtype  \n",
      "---  ------           --------------  -----  \n",
      " 0   Unnamed: 0       16744 non-null  int64  \n",
      " 1   ID               16744 non-null  int64  \n",
      " 2   Title            16744 non-null  object \n",
      " 3   Year             16744 non-null  int64  \n",
      " 4   Age              7354 non-null   object \n",
      " 5   IMDb             16173 non-null  float64\n",
      " 6   Rotten Tomatoes  5158 non-null   object \n",
      " 7   Netflix          16744 non-null  int64  \n",
      " 8   Hulu             16744 non-null  int64  \n",
      " 9   Prime Video      16744 non-null  int64  \n",
      " 10  Disney+          16744 non-null  int64  \n",
      " 11  Type             16744 non-null  int64  \n",
      " 12  Directors        16018 non-null  object \n",
      " 13  Genres           16469 non-null  object \n",
      " 14  Country          16309 non-null  object \n",
      " 15  Language         16130 non-null  object \n",
      " 16  Runtime          16152 non-null  float64\n",
      "dtypes: float64(2), int64(8), object(7)\n",
      "memory usage: 2.2+ MB\n"
     ]
    }
   ],
   "source": [
    "movies.info()"
   ]
  },
  {
   "cell_type": "code",
   "execution_count": 7,
   "id": "2a14ddc0",
   "metadata": {},
   "outputs": [
    {
     "data": {
      "text/html": [
       "<div>\n",
       "<style scoped>\n",
       "    .dataframe tbody tr th:only-of-type {\n",
       "        vertical-align: middle;\n",
       "    }\n",
       "\n",
       "    .dataframe tbody tr th {\n",
       "        vertical-align: top;\n",
       "    }\n",
       "\n",
       "    .dataframe thead th {\n",
       "        text-align: right;\n",
       "    }\n",
       "</style>\n",
       "<table border=\"1\" class=\"dataframe\">\n",
       "  <thead>\n",
       "    <tr style=\"text-align: right;\">\n",
       "      <th></th>\n",
       "      <th>Unnamed: 0</th>\n",
       "      <th>ID</th>\n",
       "      <th>Year</th>\n",
       "      <th>IMDb</th>\n",
       "      <th>Netflix</th>\n",
       "      <th>Hulu</th>\n",
       "      <th>Prime Video</th>\n",
       "      <th>Disney+</th>\n",
       "      <th>Type</th>\n",
       "      <th>Runtime</th>\n",
       "    </tr>\n",
       "  </thead>\n",
       "  <tbody>\n",
       "    <tr>\n",
       "      <th>count</th>\n",
       "      <td>16744.000000</td>\n",
       "      <td>16744.000000</td>\n",
       "      <td>16744.000000</td>\n",
       "      <td>16173.000000</td>\n",
       "      <td>16744.000000</td>\n",
       "      <td>16744.000000</td>\n",
       "      <td>16744.000000</td>\n",
       "      <td>16744.000000</td>\n",
       "      <td>16744.0</td>\n",
       "      <td>16152.000000</td>\n",
       "    </tr>\n",
       "    <tr>\n",
       "      <th>mean</th>\n",
       "      <td>8371.500000</td>\n",
       "      <td>8372.500000</td>\n",
       "      <td>2003.014035</td>\n",
       "      <td>5.902751</td>\n",
       "      <td>0.212613</td>\n",
       "      <td>0.053930</td>\n",
       "      <td>0.737817</td>\n",
       "      <td>0.033684</td>\n",
       "      <td>0.0</td>\n",
       "      <td>93.413447</td>\n",
       "    </tr>\n",
       "    <tr>\n",
       "      <th>std</th>\n",
       "      <td>4833.720789</td>\n",
       "      <td>4833.720789</td>\n",
       "      <td>20.674321</td>\n",
       "      <td>1.347867</td>\n",
       "      <td>0.409169</td>\n",
       "      <td>0.225886</td>\n",
       "      <td>0.439835</td>\n",
       "      <td>0.180419</td>\n",
       "      <td>0.0</td>\n",
       "      <td>28.219222</td>\n",
       "    </tr>\n",
       "    <tr>\n",
       "      <th>min</th>\n",
       "      <td>0.000000</td>\n",
       "      <td>1.000000</td>\n",
       "      <td>1902.000000</td>\n",
       "      <td>0.000000</td>\n",
       "      <td>0.000000</td>\n",
       "      <td>0.000000</td>\n",
       "      <td>0.000000</td>\n",
       "      <td>0.000000</td>\n",
       "      <td>0.0</td>\n",
       "      <td>1.000000</td>\n",
       "    </tr>\n",
       "    <tr>\n",
       "      <th>25%</th>\n",
       "      <td>4185.750000</td>\n",
       "      <td>4186.750000</td>\n",
       "      <td>2000.000000</td>\n",
       "      <td>5.100000</td>\n",
       "      <td>0.000000</td>\n",
       "      <td>0.000000</td>\n",
       "      <td>0.000000</td>\n",
       "      <td>0.000000</td>\n",
       "      <td>0.0</td>\n",
       "      <td>82.000000</td>\n",
       "    </tr>\n",
       "    <tr>\n",
       "      <th>50%</th>\n",
       "      <td>8371.500000</td>\n",
       "      <td>8372.500000</td>\n",
       "      <td>2012.000000</td>\n",
       "      <td>6.100000</td>\n",
       "      <td>0.000000</td>\n",
       "      <td>0.000000</td>\n",
       "      <td>1.000000</td>\n",
       "      <td>0.000000</td>\n",
       "      <td>0.0</td>\n",
       "      <td>92.000000</td>\n",
       "    </tr>\n",
       "    <tr>\n",
       "      <th>75%</th>\n",
       "      <td>12557.250000</td>\n",
       "      <td>12558.250000</td>\n",
       "      <td>2016.000000</td>\n",
       "      <td>6.900000</td>\n",
       "      <td>0.000000</td>\n",
       "      <td>0.000000</td>\n",
       "      <td>1.000000</td>\n",
       "      <td>0.000000</td>\n",
       "      <td>0.0</td>\n",
       "      <td>104.000000</td>\n",
       "    </tr>\n",
       "    <tr>\n",
       "      <th>max</th>\n",
       "      <td>16743.000000</td>\n",
       "      <td>16744.000000</td>\n",
       "      <td>2020.000000</td>\n",
       "      <td>9.300000</td>\n",
       "      <td>1.000000</td>\n",
       "      <td>1.000000</td>\n",
       "      <td>1.000000</td>\n",
       "      <td>1.000000</td>\n",
       "      <td>0.0</td>\n",
       "      <td>1256.000000</td>\n",
       "    </tr>\n",
       "  </tbody>\n",
       "</table>\n",
       "</div>"
      ],
      "text/plain": [
       "         Unnamed: 0            ID          Year          IMDb       Netflix   \n",
       "count  16744.000000  16744.000000  16744.000000  16173.000000  16744.000000  \\\n",
       "mean    8371.500000   8372.500000   2003.014035      5.902751      0.212613   \n",
       "std     4833.720789   4833.720789     20.674321      1.347867      0.409169   \n",
       "min        0.000000      1.000000   1902.000000      0.000000      0.000000   \n",
       "25%     4185.750000   4186.750000   2000.000000      5.100000      0.000000   \n",
       "50%     8371.500000   8372.500000   2012.000000      6.100000      0.000000   \n",
       "75%    12557.250000  12558.250000   2016.000000      6.900000      0.000000   \n",
       "max    16743.000000  16744.000000   2020.000000      9.300000      1.000000   \n",
       "\n",
       "               Hulu   Prime Video       Disney+     Type       Runtime  \n",
       "count  16744.000000  16744.000000  16744.000000  16744.0  16152.000000  \n",
       "mean       0.053930      0.737817      0.033684      0.0     93.413447  \n",
       "std        0.225886      0.439835      0.180419      0.0     28.219222  \n",
       "min        0.000000      0.000000      0.000000      0.0      1.000000  \n",
       "25%        0.000000      0.000000      0.000000      0.0     82.000000  \n",
       "50%        0.000000      1.000000      0.000000      0.0     92.000000  \n",
       "75%        0.000000      1.000000      0.000000      0.0    104.000000  \n",
       "max        1.000000      1.000000      1.000000      0.0   1256.000000  "
      ]
     },
     "execution_count": 7,
     "metadata": {},
     "output_type": "execute_result"
    }
   ],
   "source": [
    "movies.describe()"
   ]
  },
  {
   "cell_type": "code",
   "execution_count": 8,
   "id": "a50228bc",
   "metadata": {},
   "outputs": [
    {
     "data": {
      "text/plain": [
       "Index(['Unnamed: 0', 'ID', 'Title', 'Year', 'Age', 'IMDb', 'Rotten Tomatoes',\n",
       "       'Netflix', 'Hulu', 'Prime Video', 'Disney+', 'Type', 'Directors',\n",
       "       'Genres', 'Country', 'Language', 'Runtime'],\n",
       "      dtype='object')"
      ]
     },
     "execution_count": 8,
     "metadata": {},
     "output_type": "execute_result"
    }
   ],
   "source": [
    "movies.columns"
   ]
  },
  {
   "cell_type": "markdown",
   "id": "b52744ce",
   "metadata": {},
   "source": [
    "### DATA CLEANING:"
   ]
  },
  {
   "cell_type": "markdown",
   "id": "71ed0f93",
   "metadata": {},
   "source": [
    "#### DROP COLUMNS:"
   ]
  },
  {
   "cell_type": "code",
   "execution_count": 9,
   "id": "1f75198d",
   "metadata": {},
   "outputs": [],
   "source": [
    "movies.drop(columns=['Unnamed: 0', 'ID','Type'],inplace=True)\n",
    "\n",
    "#The Above columns does not contain any valuable informations."
   ]
  },
  {
   "cell_type": "code",
   "execution_count": 10,
   "id": "81f9c3a1",
   "metadata": {},
   "outputs": [
    {
     "data": {
      "text/plain": [
       "(16744, 14)"
      ]
     },
     "execution_count": 10,
     "metadata": {},
     "output_type": "execute_result"
    }
   ],
   "source": [
    "movies.shape"
   ]
  },
  {
   "cell_type": "markdown",
   "id": "e20d7e6a",
   "metadata": {},
   "source": [
    "#### DUPLICATES:"
   ]
  },
  {
   "cell_type": "code",
   "execution_count": 11,
   "id": "97227911",
   "metadata": {},
   "outputs": [
    {
     "data": {
      "text/plain": [
       "0"
      ]
     },
     "execution_count": 11,
     "metadata": {},
     "output_type": "execute_result"
    }
   ],
   "source": [
    "movies.duplicated().sum()"
   ]
  },
  {
   "cell_type": "markdown",
   "id": "1e477b89",
   "metadata": {},
   "source": [
    "#### MISSING VALUES:"
   ]
  },
  {
   "cell_type": "code",
   "execution_count": 12,
   "id": "c7225558",
   "metadata": {},
   "outputs": [
    {
     "data": {
      "text/plain": [
       "Title                  0\n",
       "Year                   0\n",
       "Age                 9390\n",
       "IMDb                 571\n",
       "Rotten Tomatoes    11586\n",
       "Netflix                0\n",
       "Hulu                   0\n",
       "Prime Video            0\n",
       "Disney+                0\n",
       "Directors            726\n",
       "Genres               275\n",
       "Country              435\n",
       "Language             614\n",
       "Runtime              592\n",
       "dtype: int64"
      ]
     },
     "execution_count": 12,
     "metadata": {},
     "output_type": "execute_result"
    }
   ],
   "source": [
    "movies.isnull().sum()"
   ]
  },
  {
   "cell_type": "markdown",
   "id": "6079bf7d",
   "metadata": {},
   "source": [
    "For null values, fill Unknown value to specific columns."
   ]
  },
  {
   "cell_type": "code",
   "execution_count": 13,
   "id": "824fcbc1",
   "metadata": {},
   "outputs": [
    {
     "data": {
      "text/plain": [
       "Title                  0\n",
       "Year                   0\n",
       "Age                 9390\n",
       "IMDb                 571\n",
       "Rotten Tomatoes    11586\n",
       "Netflix                0\n",
       "Hulu                   0\n",
       "Prime Video            0\n",
       "Disney+                0\n",
       "Directors              0\n",
       "Genres                 0\n",
       "Country                0\n",
       "Language               0\n",
       "Runtime                0\n",
       "dtype: int64"
      ]
     },
     "execution_count": 13,
     "metadata": {},
     "output_type": "execute_result"
    }
   ],
   "source": [
    "movies.fillna({'Directors':'Unknown','Genres':'Unknown','Country':'Unknown','Language':'Unknown','Runtime':'0'},inplace=True)\n",
    "movies.isnull().sum()"
   ]
  },
  {
   "cell_type": "code",
   "execution_count": 14,
   "id": "b6b141d0",
   "metadata": {},
   "outputs": [
    {
     "data": {
      "text/plain": [
       "0.6919493549928333"
      ]
     },
     "execution_count": 14,
     "metadata": {},
     "output_type": "execute_result"
    }
   ],
   "source": [
    "movies['Rotten Tomatoes'].isnull().sum()/len(movies['Rotten Tomatoes'])"
   ]
  },
  {
   "cell_type": "markdown",
   "id": "1956e154",
   "metadata": {},
   "source": [
    "69% of missing values are present in Rotten Tomatoes. So, Drop the Rotten Tomatoes column."
   ]
  },
  {
   "cell_type": "code",
   "execution_count": 15,
   "id": "c4cab09a",
   "metadata": {},
   "outputs": [],
   "source": [
    "movies.drop(columns=['Rotten Tomatoes'],inplace=True)"
   ]
  },
  {
   "cell_type": "code",
   "execution_count": 16,
   "id": "67c2a3ce",
   "metadata": {},
   "outputs": [
    {
     "data": {
      "text/plain": [
       "Title             0\n",
       "Year              0\n",
       "Age            9390\n",
       "IMDb            571\n",
       "Netflix           0\n",
       "Hulu              0\n",
       "Prime Video       0\n",
       "Disney+           0\n",
       "Directors         0\n",
       "Genres            0\n",
       "Country           0\n",
       "Language          0\n",
       "Runtime           0\n",
       "dtype: int64"
      ]
     },
     "execution_count": 16,
     "metadata": {},
     "output_type": "execute_result"
    }
   ],
   "source": [
    "movies.isnull().sum()"
   ]
  },
  {
   "cell_type": "markdown",
   "id": "8caa5607",
   "metadata": {},
   "source": [
    "Checking the Mean and Median value for the columns IMDb and Age"
   ]
  },
  {
   "cell_type": "code",
   "execution_count": 17,
   "id": "d29534e2",
   "metadata": {},
   "outputs": [
    {
     "name": "stdout",
     "output_type": "stream",
     "text": [
      "5.902751499412601 6.1\n"
     ]
    }
   ],
   "source": [
    "#IMDb:\n",
    "\n",
    "print(movies['IMDb'].mean(),movies['IMDb'].median())"
   ]
  },
  {
   "cell_type": "code",
   "execution_count": 18,
   "id": "e1381384",
   "metadata": {},
   "outputs": [],
   "source": [
    "# fill the IMDb column with Median value:\n",
    "\n",
    "movies['IMDb'].fillna(movies['IMDb'].median(),inplace=True)"
   ]
  },
  {
   "cell_type": "markdown",
   "id": "2e3273b7",
   "metadata": {},
   "source": [
    "Now,delete the rows of null values in Age columns:"
   ]
  },
  {
   "cell_type": "code",
   "execution_count": 19,
   "id": "7a7eaf0d",
   "metadata": {},
   "outputs": [],
   "source": [
    "movies.dropna(axis=0,subset=['Age'],inplace=True)"
   ]
  },
  {
   "cell_type": "code",
   "execution_count": 20,
   "id": "a046d8e4",
   "metadata": {},
   "outputs": [
    {
     "data": {
      "text/plain": [
       "Title          0\n",
       "Year           0\n",
       "Age            0\n",
       "IMDb           0\n",
       "Netflix        0\n",
       "Hulu           0\n",
       "Prime Video    0\n",
       "Disney+        0\n",
       "Directors      0\n",
       "Genres         0\n",
       "Country        0\n",
       "Language       0\n",
       "Runtime        0\n",
       "dtype: int64"
      ]
     },
     "execution_count": 20,
     "metadata": {},
     "output_type": "execute_result"
    }
   ],
   "source": [
    "movies.isnull().sum()"
   ]
  },
  {
   "cell_type": "code",
   "execution_count": 21,
   "id": "1b916cfa",
   "metadata": {},
   "outputs": [
    {
     "data": {
      "text/plain": [
       "Age\n",
       "18+    3474\n",
       "7+     1462\n",
       "13+    1255\n",
       "all     843\n",
       "16+     320\n",
       "Name: count, dtype: int64"
      ]
     },
     "execution_count": 21,
     "metadata": {},
     "output_type": "execute_result"
    }
   ],
   "source": [
    "movies['Age'].value_counts()"
   ]
  },
  {
   "cell_type": "code",
   "execution_count": 22,
   "id": "0428f79a",
   "metadata": {},
   "outputs": [],
   "source": [
    "movies['Age'].replace({'18+':18},inplace=True)\n",
    "movies['Age'].replace({'7+':7},inplace=True)\n",
    "movies['Age'].replace({'13+':13},inplace=True)\n",
    "movies['Age'].replace({'all':0},inplace=True)\n",
    "movies['Age'].replace({'16+':16},inplace=True)"
   ]
  },
  {
   "cell_type": "code",
   "execution_count": 23,
   "id": "e5301ed1",
   "metadata": {},
   "outputs": [
    {
     "data": {
      "text/plain": [
       "Age\n",
       "18    3474\n",
       "7     1462\n",
       "13    1255\n",
       "0      843\n",
       "16     320\n",
       "Name: count, dtype: int64"
      ]
     },
     "execution_count": 23,
     "metadata": {},
     "output_type": "execute_result"
    }
   ],
   "source": [
    "movies['Age'].value_counts()"
   ]
  },
  {
   "cell_type": "code",
   "execution_count": 24,
   "id": "f7f2f37a",
   "metadata": {},
   "outputs": [
    {
     "data": {
      "text/plain": [
       "5350"
      ]
     },
     "execution_count": 24,
     "metadata": {},
     "output_type": "execute_result"
    }
   ],
   "source": [
    "#Total number of unique directors\n",
    "len(movies['Directors'].unique())"
   ]
  },
  {
   "cell_type": "code",
   "execution_count": 25,
   "id": "cfd7a352",
   "metadata": {},
   "outputs": [
    {
     "data": {
      "text/plain": [
       "1242"
      ]
     },
     "execution_count": 25,
     "metadata": {},
     "output_type": "execute_result"
    }
   ],
   "source": [
    "#Total number of unique Genres\n",
    "len(movies['Genres'].unique())"
   ]
  },
  {
   "cell_type": "code",
   "execution_count": 26,
   "id": "edb6e060",
   "metadata": {},
   "outputs": [
    {
     "data": {
      "text/plain": [
       "600"
      ]
     },
     "execution_count": 26,
     "metadata": {},
     "output_type": "execute_result"
    }
   ],
   "source": [
    "#Total number of unique Languages\n",
    "len(movies['Language'].unique())"
   ]
  },
  {
   "cell_type": "markdown",
   "id": "8afdd5fb",
   "metadata": {},
   "source": [
    "### Exploratory Data Analysis (EDA)"
   ]
  },
  {
   "cell_type": "markdown",
   "id": "a398c314",
   "metadata": {},
   "source": [
    "#### Movie count in each platforms:"
   ]
  },
  {
   "cell_type": "code",
   "execution_count": 27,
   "id": "dbef9dfc",
   "metadata": {},
   "outputs": [],
   "source": [
    "movie_count=[movies['Netflix'].value_counts()[1],movies['Hulu'].value_counts()[1],\n",
    "               movies['Prime Video'].value_counts()[1],movies['Disney+'].value_counts()[1]]\n",
    "\n",
    "movie_labels='Netflix','Hulu','Prime Video','Disney+'\n"
   ]
  },
  {
   "cell_type": "code",
   "execution_count": 28,
   "id": "a6036693",
   "metadata": {},
   "outputs": [
    {
     "data": {
      "image/png": "[encoded data removed]",
      "text/plain": [
       "<Figure size 432x288 with 1 Axes>"
      ]
     },
     "metadata": {},
     "output_type": "display_data"
    }
   ],
   "source": [
    "plt.pie(movie_count,labels=movie_labels,autopct='%.0f%%',shadow=True)\n",
    "plt.show()"
   ]
  },
  {
   "cell_type": "markdown",
   "id": "7bd3b52d",
   "metadata": {},
   "source": [
    "--Prime Video has more movies than other platforms."
   ]
  },
  {
   "cell_type": "markdown",
   "id": "8229725b",
   "metadata": {},
   "source": [
    "#### Year with more Movie release: "
   ]
  },
  {
   "cell_type": "code",
   "execution_count": 29,
   "id": "cb28a9b7",
   "metadata": {},
   "outputs": [
    {
     "data": {
      "image/png": "[encoded data removed]",
      "text/plain": [
       "<Figure size 432x288 with 1 Axes>"
      ]
     },
     "metadata": {
      "needs_background": "light"
     },
     "output_type": "display_data"
    }
   ],
   "source": [
    "sns.histplot(movies['Year'],color='orange')\n",
    "plt.show()"
   ]
  },
  {
   "cell_type": "code",
   "execution_count": 30,
   "id": "cdc8557a",
   "metadata": {},
   "outputs": [
    {
     "data": {
      "text/plain": [
       "Year\n",
       "2017    562\n",
       "2018    499\n",
       "2016    440\n",
       "2015    392\n",
       "2014    365\n",
       "Name: count, dtype: int64"
      ]
     },
     "execution_count": 30,
     "metadata": {},
     "output_type": "execute_result"
    }
   ],
   "source": [
    "movies['Year'].value_counts().head(5)"
   ]
  },
  {
   "cell_type": "markdown",
   "id": "26d902f0",
   "metadata": {},
   "source": [
    "--Most of the Movies released between the years 2010 and 2020 in all platforms."
   ]
  },
  {
   "cell_type": "markdown",
   "id": "8915328e",
   "metadata": {},
   "source": [
    "#### Year between 2010 and 2020:"
   ]
  },
  {
   "cell_type": "code",
   "execution_count": 31,
   "id": "597e47b8",
   "metadata": {},
   "outputs": [
    {
     "data": {
      "text/html": [
       "<div>\n",
       "<style scoped>\n",
       "    .dataframe tbody tr th:only-of-type {\n",
       "        vertical-align: middle;\n",
       "    }\n",
       "\n",
       "    .dataframe tbody tr th {\n",
       "        vertical-align: top;\n",
       "    }\n",
       "\n",
       "    .dataframe thead th {\n",
       "        text-align: right;\n",
       "    }\n",
       "</style>\n",
       "<table border=\"1\" class=\"dataframe\">\n",
       "  <thead>\n",
       "    <tr style=\"text-align: right;\">\n",
       "      <th></th>\n",
       "      <th>Title</th>\n",
       "      <th>Year</th>\n",
       "      <th>Age</th>\n",
       "      <th>IMDb</th>\n",
       "      <th>Netflix</th>\n",
       "      <th>Hulu</th>\n",
       "      <th>Prime Video</th>\n",
       "      <th>Disney+</th>\n",
       "      <th>Directors</th>\n",
       "      <th>Genres</th>\n",
       "      <th>Country</th>\n",
       "      <th>Language</th>\n",
       "      <th>Runtime</th>\n",
       "    </tr>\n",
       "  </thead>\n",
       "  <tbody>\n",
       "    <tr>\n",
       "      <th>2</th>\n",
       "      <td>Avengers: Infinity War</td>\n",
       "      <td>2018</td>\n",
       "      <td>13</td>\n",
       "      <td>8.5</td>\n",
       "      <td>1</td>\n",
       "      <td>0</td>\n",
       "      <td>0</td>\n",
       "      <td>0</td>\n",
       "      <td>Anthony Russo,Joe Russo</td>\n",
       "      <td>Action,Adventure,Sci-Fi</td>\n",
       "      <td>United States</td>\n",
       "      <td>English</td>\n",
       "      <td>149.0</td>\n",
       "    </tr>\n",
       "    <tr>\n",
       "      <th>5</th>\n",
       "      <td>Spider-Man: Into the Spider-Verse</td>\n",
       "      <td>2018</td>\n",
       "      <td>7</td>\n",
       "      <td>8.4</td>\n",
       "      <td>1</td>\n",
       "      <td>0</td>\n",
       "      <td>0</td>\n",
       "      <td>0</td>\n",
       "      <td>Bob Persichetti,Peter Ramsey,Rodney Rothman</td>\n",
       "      <td>Animation,Action,Adventure,Family,Sci-Fi</td>\n",
       "      <td>United States</td>\n",
       "      <td>English,Spanish</td>\n",
       "      <td>117.0</td>\n",
       "    </tr>\n",
       "    <tr>\n",
       "      <th>7</th>\n",
       "      <td>Django Unchained</td>\n",
       "      <td>2012</td>\n",
       "      <td>18</td>\n",
       "      <td>8.4</td>\n",
       "      <td>1</td>\n",
       "      <td>0</td>\n",
       "      <td>0</td>\n",
       "      <td>0</td>\n",
       "      <td>Quentin Tarantino</td>\n",
       "      <td>Drama,Western</td>\n",
       "      <td>United States</td>\n",
       "      <td>English,German,French,Italian</td>\n",
       "      <td>165.0</td>\n",
       "    </tr>\n",
       "    <tr>\n",
       "      <th>13</th>\n",
       "      <td>Room</td>\n",
       "      <td>2015</td>\n",
       "      <td>18</td>\n",
       "      <td>8.1</td>\n",
       "      <td>1</td>\n",
       "      <td>0</td>\n",
       "      <td>0</td>\n",
       "      <td>0</td>\n",
       "      <td>Lenny Abrahamson</td>\n",
       "      <td>Drama,Thriller</td>\n",
       "      <td>Ireland,Canada,United Kingdom,United States</td>\n",
       "      <td>English</td>\n",
       "      <td>118.0</td>\n",
       "    </tr>\n",
       "    <tr>\n",
       "      <th>19</th>\n",
       "      <td>Her</td>\n",
       "      <td>2013</td>\n",
       "      <td>18</td>\n",
       "      <td>8.0</td>\n",
       "      <td>1</td>\n",
       "      <td>0</td>\n",
       "      <td>0</td>\n",
       "      <td>0</td>\n",
       "      <td>Spike Jonze</td>\n",
       "      <td>Drama,Romance,Sci-Fi</td>\n",
       "      <td>United States</td>\n",
       "      <td>English</td>\n",
       "      <td>126.0</td>\n",
       "    </tr>\n",
       "  </tbody>\n",
       "</table>\n",
       "</div>"
      ],
      "text/plain": [
       "                                Title  Year  Age  IMDb  Netflix  Hulu   \n",
       "2              Avengers: Infinity War  2018   13   8.5        1     0  \\\n",
       "5   Spider-Man: Into the Spider-Verse  2018    7   8.4        1     0   \n",
       "7                    Django Unchained  2012   18   8.4        1     0   \n",
       "13                               Room  2015   18   8.1        1     0   \n",
       "19                                Her  2013   18   8.0        1     0   \n",
       "\n",
       "    Prime Video  Disney+                                    Directors   \n",
       "2             0        0                      Anthony Russo,Joe Russo  \\\n",
       "5             0        0  Bob Persichetti,Peter Ramsey,Rodney Rothman   \n",
       "7             0        0                            Quentin Tarantino   \n",
       "13            0        0                             Lenny Abrahamson   \n",
       "19            0        0                                  Spike Jonze   \n",
       "\n",
       "                                      Genres   \n",
       "2                    Action,Adventure,Sci-Fi  \\\n",
       "5   Animation,Action,Adventure,Family,Sci-Fi   \n",
       "7                              Drama,Western   \n",
       "13                            Drama,Thriller   \n",
       "19                      Drama,Romance,Sci-Fi   \n",
       "\n",
       "                                        Country   \n",
       "2                                 United States  \\\n",
       "5                                 United States   \n",
       "7                                 United States   \n",
       "13  Ireland,Canada,United Kingdom,United States   \n",
       "19                                United States   \n",
       "\n",
       "                         Language Runtime  \n",
       "2                         English   149.0  \n",
       "5                 English,Spanish   117.0  \n",
       "7   English,German,French,Italian   165.0  \n",
       "13                        English   118.0  \n",
       "19                        English   126.0  "
      ]
     },
     "execution_count": 31,
     "metadata": {},
     "output_type": "execute_result"
    }
   ],
   "source": [
    "movie_year=movies[movies['Year']>2010]\n",
    "movie_year.head(5)"
   ]
  },
  {
   "cell_type": "code",
   "execution_count": 32,
   "id": "b9f4a79a",
   "metadata": {},
   "outputs": [
    {
     "data": {
      "image/png": "[encoded data removed]",
      "text/plain": [
       "<Figure size 432x288 with 1 Axes>"
      ]
     },
     "metadata": {
      "needs_background": "light"
     },
     "output_type": "display_data"
    }
   ],
   "source": [
    "year_plot=sns.histplot(movie_year['Year'],color='orange')\n",
    "plt.show()"
   ]
  },
  {
   "cell_type": "markdown",
   "id": "99f883e4",
   "metadata": {},
   "source": [
    "-- From above diagram, Year 2017 has maximum counts of Movies."
   ]
  },
  {
   "cell_type": "markdown",
   "id": "a2c04804",
   "metadata": {},
   "source": [
    "#### Age Distribution across Platforms:"
   ]
  },
  {
   "cell_type": "code",
   "execution_count": 33,
   "id": "b950a270",
   "metadata": {},
   "outputs": [
    {
     "data": {
      "image/png": "[encoded data removed]",
      "text/plain": [
       "<Figure size 432x288 with 1 Axes>"
      ]
     },
     "metadata": {
      "needs_background": "light"
     },
     "output_type": "display_data"
    }
   ],
   "source": [
    "sns.countplot(y=movies['Age'])\n",
    "plt.show()"
   ]
  },
  {
   "cell_type": "markdown",
   "id": "61d94ebd",
   "metadata": {},
   "source": [
    "--Most of the shows in OTT platforms are focus on age group greater than 18"
   ]
  },
  {
   "cell_type": "markdown",
   "id": "c8baa66a",
   "metadata": {},
   "source": [
    "#### Top 10 countries:"
   ]
  },
  {
   "cell_type": "code",
   "execution_count": 34,
   "id": "119f0b20",
   "metadata": {},
   "outputs": [
    {
     "data": {
      "text/plain": [
       "Country\n",
       "United States                   4113\n",
       "India                            358\n",
       "United Kingdom                   323\n",
       "Canada                           246\n",
       "United Kingdom,United States     123\n",
       "United States,Canada              97\n",
       "Canada,United States              93\n",
       "Australia                         89\n",
       "Japan                             80\n",
       "Hong Kong                         76\n",
       "Name: count, dtype: int64"
      ]
     },
     "execution_count": 34,
     "metadata": {},
     "output_type": "execute_result"
    }
   ],
   "source": [
    "movies['Country'].value_counts().head(10)"
   ]
  },
  {
   "cell_type": "code",
   "execution_count": 35,
   "id": "82aa9f4b",
   "metadata": {},
   "outputs": [
    {
     "data": {
      "image/png": "[encoded data removed]",
      "text/plain": [
       "<Figure size 720x504 with 1 Axes>"
      ]
     },
     "metadata": {
      "needs_background": "light"
     },
     "output_type": "display_data"
    }
   ],
   "source": [
    "plt.figure(figsize=(10,7))\n",
    "plot=sns.countplot(x=movies['Country'],order=movies['Country'].value_counts().index[:10])\n",
    "plot.set_xticklabels(plot.get_xticklabels(),rotation=-90)\n",
    "plt.title(\"Top 10 countries\")\n",
    "plt.show()"
   ]
  },
  {
   "cell_type": "markdown",
   "id": "cdd1c26e",
   "metadata": {},
   "source": [
    "-- From above Visualisation, United states has maximum counts followed by India."
   ]
  },
  {
   "cell_type": "markdown",
   "id": "265bc394",
   "metadata": {},
   "source": [
    "#### Genres by dummy variables listed below:"
   ]
  },
  {
   "cell_type": "code",
   "execution_count": 36,
   "id": "829f0e21",
   "metadata": {},
   "outputs": [
    {
     "data": {
      "text/html": [
       "<div>\n",
       "<style scoped>\n",
       "    .dataframe tbody tr th:only-of-type {\n",
       "        vertical-align: middle;\n",
       "    }\n",
       "\n",
       "    .dataframe tbody tr th {\n",
       "        vertical-align: top;\n",
       "    }\n",
       "\n",
       "    .dataframe thead th {\n",
       "        text-align: right;\n",
       "    }\n",
       "</style>\n",
       "<table border=\"1\" class=\"dataframe\">\n",
       "  <thead>\n",
       "    <tr style=\"text-align: right;\">\n",
       "      <th></th>\n",
       "      <th>Action</th>\n",
       "      <th>Adventure</th>\n",
       "      <th>Animation</th>\n",
       "      <th>Biography</th>\n",
       "      <th>Comedy</th>\n",
       "      <th>Crime</th>\n",
       "      <th>Documentary</th>\n",
       "      <th>Drama</th>\n",
       "      <th>Family</th>\n",
       "      <th>Fantasy</th>\n",
       "      <th>...</th>\n",
       "      <th>Reality-TV</th>\n",
       "      <th>Romance</th>\n",
       "      <th>Sci-Fi</th>\n",
       "      <th>Short</th>\n",
       "      <th>Sport</th>\n",
       "      <th>Talk-Show</th>\n",
       "      <th>Thriller</th>\n",
       "      <th>Unknown</th>\n",
       "      <th>War</th>\n",
       "      <th>Western</th>\n",
       "    </tr>\n",
       "  </thead>\n",
       "  <tbody>\n",
       "    <tr>\n",
       "      <th>0</th>\n",
       "      <td>1</td>\n",
       "      <td>1</td>\n",
       "      <td>0</td>\n",
       "      <td>0</td>\n",
       "      <td>0</td>\n",
       "      <td>0</td>\n",
       "      <td>0</td>\n",
       "      <td>0</td>\n",
       "      <td>0</td>\n",
       "      <td>0</td>\n",
       "      <td>...</td>\n",
       "      <td>0</td>\n",
       "      <td>0</td>\n",
       "      <td>1</td>\n",
       "      <td>0</td>\n",
       "      <td>0</td>\n",
       "      <td>0</td>\n",
       "      <td>1</td>\n",
       "      <td>0</td>\n",
       "      <td>0</td>\n",
       "      <td>0</td>\n",
       "    </tr>\n",
       "    <tr>\n",
       "      <th>1</th>\n",
       "      <td>1</td>\n",
       "      <td>0</td>\n",
       "      <td>0</td>\n",
       "      <td>0</td>\n",
       "      <td>0</td>\n",
       "      <td>0</td>\n",
       "      <td>0</td>\n",
       "      <td>0</td>\n",
       "      <td>0</td>\n",
       "      <td>0</td>\n",
       "      <td>...</td>\n",
       "      <td>0</td>\n",
       "      <td>0</td>\n",
       "      <td>1</td>\n",
       "      <td>0</td>\n",
       "      <td>0</td>\n",
       "      <td>0</td>\n",
       "      <td>0</td>\n",
       "      <td>0</td>\n",
       "      <td>0</td>\n",
       "      <td>0</td>\n",
       "    </tr>\n",
       "    <tr>\n",
       "      <th>2</th>\n",
       "      <td>1</td>\n",
       "      <td>1</td>\n",
       "      <td>0</td>\n",
       "      <td>0</td>\n",
       "      <td>0</td>\n",
       "      <td>0</td>\n",
       "      <td>0</td>\n",
       "      <td>0</td>\n",
       "      <td>0</td>\n",
       "      <td>0</td>\n",
       "      <td>...</td>\n",
       "      <td>0</td>\n",
       "      <td>0</td>\n",
       "      <td>1</td>\n",
       "      <td>0</td>\n",
       "      <td>0</td>\n",
       "      <td>0</td>\n",
       "      <td>0</td>\n",
       "      <td>0</td>\n",
       "      <td>0</td>\n",
       "      <td>0</td>\n",
       "    </tr>\n",
       "    <tr>\n",
       "      <th>3</th>\n",
       "      <td>0</td>\n",
       "      <td>1</td>\n",
       "      <td>0</td>\n",
       "      <td>0</td>\n",
       "      <td>1</td>\n",
       "      <td>0</td>\n",
       "      <td>0</td>\n",
       "      <td>0</td>\n",
       "      <td>0</td>\n",
       "      <td>0</td>\n",
       "      <td>...</td>\n",
       "      <td>0</td>\n",
       "      <td>0</td>\n",
       "      <td>1</td>\n",
       "      <td>0</td>\n",
       "      <td>0</td>\n",
       "      <td>0</td>\n",
       "      <td>0</td>\n",
       "      <td>0</td>\n",
       "      <td>0</td>\n",
       "      <td>0</td>\n",
       "    </tr>\n",
       "    <tr>\n",
       "      <th>4</th>\n",
       "      <td>0</td>\n",
       "      <td>0</td>\n",
       "      <td>0</td>\n",
       "      <td>0</td>\n",
       "      <td>0</td>\n",
       "      <td>0</td>\n",
       "      <td>0</td>\n",
       "      <td>0</td>\n",
       "      <td>0</td>\n",
       "      <td>0</td>\n",
       "      <td>...</td>\n",
       "      <td>0</td>\n",
       "      <td>0</td>\n",
       "      <td>0</td>\n",
       "      <td>0</td>\n",
       "      <td>0</td>\n",
       "      <td>0</td>\n",
       "      <td>0</td>\n",
       "      <td>0</td>\n",
       "      <td>0</td>\n",
       "      <td>1</td>\n",
       "    </tr>\n",
       "    <tr>\n",
       "      <th>...</th>\n",
       "      <td>...</td>\n",
       "      <td>...</td>\n",
       "      <td>...</td>\n",
       "      <td>...</td>\n",
       "      <td>...</td>\n",
       "      <td>...</td>\n",
       "      <td>...</td>\n",
       "      <td>...</td>\n",
       "      <td>...</td>\n",
       "      <td>...</td>\n",
       "      <td>...</td>\n",
       "      <td>...</td>\n",
       "      <td>...</td>\n",
       "      <td>...</td>\n",
       "      <td>...</td>\n",
       "      <td>...</td>\n",
       "      <td>...</td>\n",
       "      <td>...</td>\n",
       "      <td>...</td>\n",
       "      <td>...</td>\n",
       "      <td>...</td>\n",
       "    </tr>\n",
       "    <tr>\n",
       "      <th>16726</th>\n",
       "      <td>0</td>\n",
       "      <td>0</td>\n",
       "      <td>0</td>\n",
       "      <td>0</td>\n",
       "      <td>1</td>\n",
       "      <td>0</td>\n",
       "      <td>0</td>\n",
       "      <td>0</td>\n",
       "      <td>1</td>\n",
       "      <td>0</td>\n",
       "      <td>...</td>\n",
       "      <td>0</td>\n",
       "      <td>0</td>\n",
       "      <td>0</td>\n",
       "      <td>0</td>\n",
       "      <td>0</td>\n",
       "      <td>0</td>\n",
       "      <td>0</td>\n",
       "      <td>0</td>\n",
       "      <td>0</td>\n",
       "      <td>0</td>\n",
       "    </tr>\n",
       "    <tr>\n",
       "      <th>16727</th>\n",
       "      <td>0</td>\n",
       "      <td>1</td>\n",
       "      <td>0</td>\n",
       "      <td>0</td>\n",
       "      <td>0</td>\n",
       "      <td>0</td>\n",
       "      <td>0</td>\n",
       "      <td>0</td>\n",
       "      <td>1</td>\n",
       "      <td>0</td>\n",
       "      <td>...</td>\n",
       "      <td>0</td>\n",
       "      <td>0</td>\n",
       "      <td>0</td>\n",
       "      <td>0</td>\n",
       "      <td>0</td>\n",
       "      <td>0</td>\n",
       "      <td>0</td>\n",
       "      <td>0</td>\n",
       "      <td>0</td>\n",
       "      <td>0</td>\n",
       "    </tr>\n",
       "    <tr>\n",
       "      <th>16737</th>\n",
       "      <td>0</td>\n",
       "      <td>0</td>\n",
       "      <td>0</td>\n",
       "      <td>0</td>\n",
       "      <td>0</td>\n",
       "      <td>0</td>\n",
       "      <td>0</td>\n",
       "      <td>1</td>\n",
       "      <td>1</td>\n",
       "      <td>0</td>\n",
       "      <td>...</td>\n",
       "      <td>0</td>\n",
       "      <td>0</td>\n",
       "      <td>0</td>\n",
       "      <td>0</td>\n",
       "      <td>0</td>\n",
       "      <td>0</td>\n",
       "      <td>0</td>\n",
       "      <td>0</td>\n",
       "      <td>0</td>\n",
       "      <td>0</td>\n",
       "    </tr>\n",
       "    <tr>\n",
       "      <th>16738</th>\n",
       "      <td>0</td>\n",
       "      <td>1</td>\n",
       "      <td>0</td>\n",
       "      <td>0</td>\n",
       "      <td>0</td>\n",
       "      <td>0</td>\n",
       "      <td>0</td>\n",
       "      <td>0</td>\n",
       "      <td>1</td>\n",
       "      <td>0</td>\n",
       "      <td>...</td>\n",
       "      <td>0</td>\n",
       "      <td>0</td>\n",
       "      <td>0</td>\n",
       "      <td>0</td>\n",
       "      <td>0</td>\n",
       "      <td>0</td>\n",
       "      <td>0</td>\n",
       "      <td>0</td>\n",
       "      <td>0</td>\n",
       "      <td>0</td>\n",
       "    </tr>\n",
       "    <tr>\n",
       "      <th>16740</th>\n",
       "      <td>0</td>\n",
       "      <td>0</td>\n",
       "      <td>0</td>\n",
       "      <td>0</td>\n",
       "      <td>1</td>\n",
       "      <td>0</td>\n",
       "      <td>0</td>\n",
       "      <td>0</td>\n",
       "      <td>1</td>\n",
       "      <td>0</td>\n",
       "      <td>...</td>\n",
       "      <td>0</td>\n",
       "      <td>0</td>\n",
       "      <td>1</td>\n",
       "      <td>0</td>\n",
       "      <td>0</td>\n",
       "      <td>0</td>\n",
       "      <td>0</td>\n",
       "      <td>0</td>\n",
       "      <td>0</td>\n",
       "      <td>0</td>\n",
       "    </tr>\n",
       "  </tbody>\n",
       "</table>\n",
       "<p>7354 rows × 27 columns</p>\n",
       "</div>"
      ],
      "text/plain": [
       "       Action  Adventure  Animation  Biography  Comedy  Crime  Documentary   \n",
       "0           1          1          0          0       0      0            0  \\\n",
       "1           1          0          0          0       0      0            0   \n",
       "2           1          1          0          0       0      0            0   \n",
       "3           0          1          0          0       1      0            0   \n",
       "4           0          0          0          0       0      0            0   \n",
       "...       ...        ...        ...        ...     ...    ...          ...   \n",
       "16726       0          0          0          0       1      0            0   \n",
       "16727       0          1          0          0       0      0            0   \n",
       "16737       0          0          0          0       0      0            0   \n",
       "16738       0          1          0          0       0      0            0   \n",
       "16740       0          0          0          0       1      0            0   \n",
       "\n",
       "       Drama  Family  Fantasy  ...  Reality-TV  Romance  Sci-Fi  Short  Sport   \n",
       "0          0       0        0  ...           0        0       1      0      0  \\\n",
       "1          0       0        0  ...           0        0       1      0      0   \n",
       "2          0       0        0  ...           0        0       1      0      0   \n",
       "3          0       0        0  ...           0        0       1      0      0   \n",
       "4          0       0        0  ...           0        0       0      0      0   \n",
       "...      ...     ...      ...  ...         ...      ...     ...    ...    ...   \n",
       "16726      0       1        0  ...           0        0       0      0      0   \n",
       "16727      0       1        0  ...           0        0       0      0      0   \n",
       "16737      1       1        0  ...           0        0       0      0      0   \n",
       "16738      0       1        0  ...           0        0       0      0      0   \n",
       "16740      0       1        0  ...           0        0       1      0      0   \n",
       "\n",
       "       Talk-Show  Thriller  Unknown  War  Western  \n",
       "0              0         1        0    0        0  \n",
       "1              0         0        0    0        0  \n",
       "2              0         0        0    0        0  \n",
       "3              0         0        0    0        0  \n",
       "4              0         0        0    0        1  \n",
       "...          ...       ...      ...  ...      ...  \n",
       "16726          0         0        0    0        0  \n",
       "16727          0         0        0    0        0  \n",
       "16737          0         0        0    0        0  \n",
       "16738          0         0        0    0        0  \n",
       "16740          0         0        0    0        0  \n",
       "\n",
       "[7354 rows x 27 columns]"
      ]
     },
     "execution_count": 36,
     "metadata": {},
     "output_type": "execute_result"
    }
   ],
   "source": [
    "dummy_genres = movies['Genres'].str.get_dummies(',')\n",
    "dummy_genres"
   ]
  },
  {
   "cell_type": "code",
   "execution_count": 37,
   "id": "0ca3dfa2",
   "metadata": {},
   "outputs": [
    {
     "data": {
      "text/plain": [
       "Action         1451\n",
       "Adventure      1049\n",
       "Animation       462\n",
       "Biography       385\n",
       "Comedy         2369\n",
       "Crime           936\n",
       "Documentary     725\n",
       "Drama          3338\n",
       "Family         1007\n",
       "Fantasy         687\n",
       "Film-Noir         6\n",
       "History         276\n",
       "Horror         1092\n",
       "Music           259\n",
       "Musical         210\n",
       "Mystery         618\n",
       "News             31\n",
       "Reality-TV        5\n",
       "Romance        1081\n",
       "Sci-Fi          706\n",
       "Short            91\n",
       "Sport           210\n",
       "Talk-Show         8\n",
       "Thriller       1773\n",
       "Unknown          30\n",
       "War             239\n",
       "Western         202\n",
       "dtype: int64"
      ]
     },
     "execution_count": 37,
     "metadata": {},
     "output_type": "execute_result"
    }
   ],
   "source": [
    "dummy_genres.sum()"
   ]
  },
  {
   "cell_type": "code",
   "execution_count": 38,
   "id": "b39f2331",
   "metadata": {},
   "outputs": [
    {
     "data": {
      "image/png": "[encoded data removed]",
      "text/plain": [
       "<Figure size 432x288 with 1 Axes>"
      ]
     },
     "metadata": {
      "needs_background": "light"
     },
     "output_type": "display_data"
    }
   ],
   "source": [
    "dummy_genres.sum().plot(kind='bar',color='Orange')\n",
    "plt.xlabel('Genres')\n",
    "plt.ylabel('Total number of movies')\n",
    "plt.title('Movies and genres')\n",
    "plt.show()"
   ]
  },
  {
   "cell_type": "markdown",
   "id": "0cbde153",
   "metadata": {},
   "source": [
    "-- From above Diagram, we see that Most of movies are based on drama"
   ]
  },
  {
   "cell_type": "markdown",
   "id": "a369dea6",
   "metadata": {},
   "source": [
    "#### Year with Runtime: "
   ]
  },
  {
   "cell_type": "code",
   "execution_count": 39,
   "id": "036ac82a",
   "metadata": {},
   "outputs": [
    {
     "data": {
      "image/png": "[encoded data removed]",
      "text/plain": [
       "<Figure size 432x288 with 1 Axes>"
      ]
     },
     "metadata": {
      "needs_background": "light"
     },
     "output_type": "display_data"
    }
   ],
   "source": [
    "movies.plot(x='Year',y='Runtime',kind='scatter',color='orange')\n",
    "plt.show()"
   ]
  },
  {
   "cell_type": "markdown",
   "id": "deda70c2",
   "metadata": {},
   "source": [
    "-- Year 2020 has high runtimes which is less than 200"
   ]
  },
  {
   "cell_type": "markdown",
   "id": "527d7898",
   "metadata": {},
   "source": [
    "#### Rating Range of Movies:"
   ]
  },
  {
   "cell_type": "code",
   "execution_count": 40,
   "id": "8533f79f",
   "metadata": {},
   "outputs": [
    {
     "name": "stdout",
     "output_type": "stream",
     "text": [
      "Minimum IMDb rating:  1.0\n",
      "Maximum IMDb rating:  9.1\n"
     ]
    },
    {
     "data": {
      "image/png": "[encoded data removed]",
      "text/plain": [
       "<Figure size 432x288 with 1 Axes>"
      ]
     },
     "metadata": {
      "needs_background": "light"
     },
     "output_type": "display_data"
    }
   ],
   "source": [
    "print('Minimum IMDb rating: ', movies['IMDb'].min())\n",
    "print('Maximum IMDb rating: ', movies['IMDb'].max())\n",
    "\n",
    "sns.kdeplot(movies.IMDb, color='orange',shade=True)\n",
    "plt.axvline(movies.IMDb.min(),color='green',label='min')\n",
    "plt.axvline(movies.IMDb.max(),color='red',label='max')\n",
    "plt.legend()\n",
    "plt.title('Ratings Range')\n",
    "plt.show()"
   ]
  },
  {
   "cell_type": "markdown",
   "id": "05b91c5e",
   "metadata": {},
   "source": [
    "#### Top 10 Ratings of Movies:"
   ]
  },
  {
   "cell_type": "code",
   "execution_count": 41,
   "id": "920c0c5d",
   "metadata": {
    "scrolled": true
   },
   "outputs": [
    {
     "data": {
      "text/html": [
       "<div>\n",
       "<style scoped>\n",
       "    .dataframe tbody tr th:only-of-type {\n",
       "        vertical-align: middle;\n",
       "    }\n",
       "\n",
       "    .dataframe tbody tr th {\n",
       "        vertical-align: top;\n",
       "    }\n",
       "\n",
       "    .dataframe thead th {\n",
       "        text-align: right;\n",
       "    }\n",
       "</style>\n",
       "<table border=\"1\" class=\"dataframe\">\n",
       "  <thead>\n",
       "    <tr style=\"text-align: right;\">\n",
       "      <th></th>\n",
       "      <th>Title</th>\n",
       "      <th>Year</th>\n",
       "      <th>Age</th>\n",
       "      <th>IMDb</th>\n",
       "      <th>Netflix</th>\n",
       "      <th>Hulu</th>\n",
       "      <th>Prime Video</th>\n",
       "      <th>Disney+</th>\n",
       "      <th>Directors</th>\n",
       "      <th>Genres</th>\n",
       "      <th>Country</th>\n",
       "      <th>Language</th>\n",
       "      <th>Runtime</th>\n",
       "    </tr>\n",
       "  </thead>\n",
       "  <tbody>\n",
       "    <tr>\n",
       "      <th>7491</th>\n",
       "      <td>Finding Family</td>\n",
       "      <td>2013</td>\n",
       "      <td>13</td>\n",
       "      <td>9.1</td>\n",
       "      <td>0</td>\n",
       "      <td>0</td>\n",
       "      <td>1</td>\n",
       "      <td>0</td>\n",
       "      <td>Chris Leslie,Oggi Tomic</td>\n",
       "      <td>Documentary,Family,History,War</td>\n",
       "      <td>United Kingdom,Bosnia and Herzegovina</td>\n",
       "      <td>Bosnian,English</td>\n",
       "      <td>56.0</td>\n",
       "    </tr>\n",
       "    <tr>\n",
       "      <th>3560</th>\n",
       "      <td>The Dark Knight</td>\n",
       "      <td>2008</td>\n",
       "      <td>13</td>\n",
       "      <td>9.0</td>\n",
       "      <td>0</td>\n",
       "      <td>1</td>\n",
       "      <td>0</td>\n",
       "      <td>0</td>\n",
       "      <td>Christopher Nolan</td>\n",
       "      <td>Action,Crime,Drama,Thriller</td>\n",
       "      <td>United States,United Kingdom</td>\n",
       "      <td>English,Mandarin</td>\n",
       "      <td>152.0</td>\n",
       "    </tr>\n",
       "    <tr>\n",
       "      <th>6840</th>\n",
       "      <td>Peter Gabriel: Secret World Live</td>\n",
       "      <td>1993</td>\n",
       "      <td>0</td>\n",
       "      <td>8.9</td>\n",
       "      <td>0</td>\n",
       "      <td>0</td>\n",
       "      <td>1</td>\n",
       "      <td>0</td>\n",
       "      <td>François Girard</td>\n",
       "      <td>Documentary,Music</td>\n",
       "      <td>Canada</td>\n",
       "      <td>English</td>\n",
       "      <td>102.0</td>\n",
       "    </tr>\n",
       "    <tr>\n",
       "      <th>4829</th>\n",
       "      <td>The Mountain II</td>\n",
       "      <td>2016</td>\n",
       "      <td>0</td>\n",
       "      <td>8.9</td>\n",
       "      <td>0</td>\n",
       "      <td>0</td>\n",
       "      <td>1</td>\n",
       "      <td>0</td>\n",
       "      <td>Alper Caglar</td>\n",
       "      <td>Action,Drama,War</td>\n",
       "      <td>Turkey</td>\n",
       "      <td>Turkish</td>\n",
       "      <td>135.0</td>\n",
       "    </tr>\n",
       "    <tr>\n",
       "      <th>0</th>\n",
       "      <td>Inception</td>\n",
       "      <td>2010</td>\n",
       "      <td>13</td>\n",
       "      <td>8.8</td>\n",
       "      <td>1</td>\n",
       "      <td>0</td>\n",
       "      <td>0</td>\n",
       "      <td>0</td>\n",
       "      <td>Christopher Nolan</td>\n",
       "      <td>Action,Adventure,Sci-Fi,Thriller</td>\n",
       "      <td>United States,United Kingdom</td>\n",
       "      <td>English,Japanese,French</td>\n",
       "      <td>148.0</td>\n",
       "    </tr>\n",
       "    <tr>\n",
       "      <th>7643</th>\n",
       "      <td>Machine Gun Preacher Documentary</td>\n",
       "      <td>2014</td>\n",
       "      <td>16</td>\n",
       "      <td>8.8</td>\n",
       "      <td>0</td>\n",
       "      <td>0</td>\n",
       "      <td>1</td>\n",
       "      <td>0</td>\n",
       "      <td>Kevin Evans,Zac Simpson</td>\n",
       "      <td>Documentary</td>\n",
       "      <td>United States,Australia</td>\n",
       "      <td>English</td>\n",
       "      <td>73.0</td>\n",
       "    </tr>\n",
       "    <tr>\n",
       "      <th>4</th>\n",
       "      <td>The Good, the Bad and the Ugly</td>\n",
       "      <td>1966</td>\n",
       "      <td>18</td>\n",
       "      <td>8.8</td>\n",
       "      <td>1</td>\n",
       "      <td>0</td>\n",
       "      <td>1</td>\n",
       "      <td>0</td>\n",
       "      <td>Sergio Leone</td>\n",
       "      <td>Western</td>\n",
       "      <td>Italy,Spain,West Germany</td>\n",
       "      <td>Italian</td>\n",
       "      <td>161.0</td>\n",
       "    </tr>\n",
       "    <tr>\n",
       "      <th>8247</th>\n",
       "      <td>Memories 677</td>\n",
       "      <td>2011</td>\n",
       "      <td>13</td>\n",
       "      <td>8.8</td>\n",
       "      <td>0</td>\n",
       "      <td>0</td>\n",
       "      <td>1</td>\n",
       "      <td>0</td>\n",
       "      <td>Kôji Morimoto,Tensai Okamura,Katsuhiro Ôtomo</td>\n",
       "      <td>Animation,Comedy,Fantasy,Horror,Sci-Fi,Thriller</td>\n",
       "      <td>Japan</td>\n",
       "      <td>Japanese,English,Italian</td>\n",
       "      <td>113.0</td>\n",
       "    </tr>\n",
       "    <tr>\n",
       "      <th>9213</th>\n",
       "      <td>Street Dogs of South Central</td>\n",
       "      <td>2013</td>\n",
       "      <td>18</td>\n",
       "      <td>8.8</td>\n",
       "      <td>0</td>\n",
       "      <td>0</td>\n",
       "      <td>1</td>\n",
       "      <td>0</td>\n",
       "      <td>Bill Marin</td>\n",
       "      <td>Documentary</td>\n",
       "      <td>United States</td>\n",
       "      <td>English</td>\n",
       "      <td>83.0</td>\n",
       "    </tr>\n",
       "    <tr>\n",
       "      <th>9697</th>\n",
       "      <td>Devo: Hardcore Live!</td>\n",
       "      <td>2015</td>\n",
       "      <td>13</td>\n",
       "      <td>8.7</td>\n",
       "      <td>0</td>\n",
       "      <td>0</td>\n",
       "      <td>1</td>\n",
       "      <td>0</td>\n",
       "      <td>Keirda Bahruth</td>\n",
       "      <td>Documentary</td>\n",
       "      <td>United States</td>\n",
       "      <td>English</td>\n",
       "      <td>85.0</td>\n",
       "    </tr>\n",
       "  </tbody>\n",
       "</table>\n",
       "</div>"
      ],
      "text/plain": [
       "                                 Title  Year  Age  IMDb  Netflix  Hulu   \n",
       "7491                    Finding Family  2013   13   9.1        0     0  \\\n",
       "3560                   The Dark Knight  2008   13   9.0        0     1   \n",
       "6840  Peter Gabriel: Secret World Live  1993    0   8.9        0     0   \n",
       "4829                   The Mountain II  2016    0   8.9        0     0   \n",
       "0                            Inception  2010   13   8.8        1     0   \n",
       "7643  Machine Gun Preacher Documentary  2014   16   8.8        0     0   \n",
       "4       The Good, the Bad and the Ugly  1966   18   8.8        1     0   \n",
       "8247                      Memories 677  2011   13   8.8        0     0   \n",
       "9213      Street Dogs of South Central  2013   18   8.8        0     0   \n",
       "9697              Devo: Hardcore Live!  2015   13   8.7        0     0   \n",
       "\n",
       "      Prime Video  Disney+                                     Directors   \n",
       "7491            1        0                       Chris Leslie,Oggi Tomic  \\\n",
       "3560            0        0                             Christopher Nolan   \n",
       "6840            1        0                               François Girard   \n",
       "4829            1        0                                  Alper Caglar   \n",
       "0               0        0                             Christopher Nolan   \n",
       "7643            1        0                       Kevin Evans,Zac Simpson   \n",
       "4               1        0                                  Sergio Leone   \n",
       "8247            1        0  Kôji Morimoto,Tensai Okamura,Katsuhiro Ôtomo   \n",
       "9213            1        0                                    Bill Marin   \n",
       "9697            1        0                                Keirda Bahruth   \n",
       "\n",
       "                                               Genres   \n",
       "7491                   Documentary,Family,History,War  \\\n",
       "3560                      Action,Crime,Drama,Thriller   \n",
       "6840                                Documentary,Music   \n",
       "4829                                 Action,Drama,War   \n",
       "0                    Action,Adventure,Sci-Fi,Thriller   \n",
       "7643                                      Documentary   \n",
       "4                                             Western   \n",
       "8247  Animation,Comedy,Fantasy,Horror,Sci-Fi,Thriller   \n",
       "9213                                      Documentary   \n",
       "9697                                      Documentary   \n",
       "\n",
       "                                    Country                  Language Runtime  \n",
       "7491  United Kingdom,Bosnia and Herzegovina           Bosnian,English    56.0  \n",
       "3560           United States,United Kingdom          English,Mandarin   152.0  \n",
       "6840                                 Canada                   English   102.0  \n",
       "4829                                 Turkey                   Turkish   135.0  \n",
       "0              United States,United Kingdom   English,Japanese,French   148.0  \n",
       "7643                United States,Australia                   English    73.0  \n",
       "4                  Italy,Spain,West Germany                   Italian   161.0  \n",
       "8247                                  Japan  Japanese,English,Italian   113.0  \n",
       "9213                          United States                   English    83.0  \n",
       "9697                          United States                   English    85.0  "
      ]
     },
     "execution_count": 41,
     "metadata": {},
     "output_type": "execute_result"
    }
   ],
   "source": [
    "movie_rating=movies.sort_values(by=['IMDb'],ascending=False).head(10)\n",
    "movie_rating"
   ]
  },
  {
   "cell_type": "code",
   "execution_count": 42,
   "id": "92684c24",
   "metadata": {
    "scrolled": true
   },
   "outputs": [
    {
     "data": {
      "image/png": "[encoded data removed]",
      "text/plain": [
       "<Figure size 504x432 with 1 Axes>"
      ]
     },
     "metadata": {
      "needs_background": "light"
     },
     "output_type": "display_data"
    }
   ],
   "source": [
    "plt.figure(figsize=(7,6))\n",
    "bar_plot=sns.barplot(movie_rating,x='IMDb',y='Title',orient='h')\n",
    "bar_plot.bar_label(bar_plot.containers[0])\n",
    "plt.show()"
   ]
  },
  {
   "cell_type": "markdown",
   "id": "dd225250",
   "metadata": {},
   "source": [
    "#### Languages by dummy variable listed below:"
   ]
  },
  {
   "cell_type": "code",
   "execution_count": 43,
   "id": "07d98606",
   "metadata": {
    "scrolled": true
   },
   "outputs": [
    {
     "data": {
      "text/plain": [
       "Aboriginal                 5\n",
       "Afrikaans                  7\n",
       "American Sign Language    13\n",
       "Amharic                    1\n",
       "Apache languages           3\n",
       "                          ..\n",
       "Wolof                      1\n",
       "Xhosa                      5\n",
       "Yiddish                   13\n",
       "Yoruba                     1\n",
       "Zulu                       3\n",
       "Length: 132, dtype: int64"
      ]
     },
     "execution_count": 43,
     "metadata": {},
     "output_type": "execute_result"
    }
   ],
   "source": [
    "movie_lan=movies['Language'].str.get_dummies(',')\n",
    "movie_lan.sum()"
   ]
  },
  {
   "cell_type": "markdown",
   "id": "6478f4ae",
   "metadata": {},
   "source": [
    "#### Top 15 Languages:"
   ]
  },
  {
   "cell_type": "code",
   "execution_count": 44,
   "id": "a5d61c66",
   "metadata": {},
   "outputs": [
    {
     "data": {
      "text/plain": [
       "English      6386\n",
       "Spanish       414\n",
       "French        387\n",
       "Hindi         303\n",
       "German        212\n",
       "Italian       201\n",
       "Mandarin      159\n",
       "Japanese      154\n",
       "Unknown       120\n",
       "Russian       112\n",
       "Cantonese      79\n",
       "Arabic         74\n",
       "Korean         54\n",
       "Turkish        43\n",
       "Tamil          42\n",
       "dtype: int64"
      ]
     },
     "execution_count": 44,
     "metadata": {},
     "output_type": "execute_result"
    }
   ],
   "source": [
    "lan_15=movie_lan.sum().nlargest(15)\n",
    "lan_15"
   ]
  },
  {
   "cell_type": "code",
   "execution_count": 45,
   "id": "ccc6216c",
   "metadata": {},
   "outputs": [
    {
     "data": {
      "image/png": "[encoded data removed]",
      "text/plain": [
       "<Figure size 432x288 with 1 Axes>"
      ]
     },
     "metadata": {
      "needs_background": "light"
     },
     "output_type": "display_data"
    }
   ],
   "source": [
    "lan_15.plot(kind='bar',color='orange')\n",
    "plt.xlabel('Languages')\n",
    "plt.ylabel('Language_count')\n",
    "plt.title('Count of top 15 Languages')\n",
    "plt.show()"
   ]
  },
  {
   "cell_type": "markdown",
   "id": "d6b40131",
   "metadata": {},
   "source": [
    "--English language has highest count amongest every other languages across all platforms:"
   ]
  },
  {
   "cell_type": "markdown",
   "id": "5bc23dcc",
   "metadata": {},
   "source": [
    "#### Top 15 Directors in OTT platforms:"
   ]
  },
  {
   "cell_type": "code",
   "execution_count": 46,
   "id": "1fea20f4",
   "metadata": {},
   "outputs": [],
   "source": [
    "movie_dir=movies['Directors'].str.get_dummies(',')\n"
   ]
  },
  {
   "cell_type": "code",
   "execution_count": 47,
   "id": "03ceed5c",
   "metadata": {},
   "outputs": [
    {
     "data": {
      "text/plain": [
       "Unknown             171\n",
       "Cheh Chang           22\n",
       "Jim Wynorski         22\n",
       "Scott L. Montoya     16\n",
       "Paul Hoen            15\n",
       "Fred Olen Ray        14\n",
       "Mark Atkins          12\n",
       "Chia-Liang Liu       11\n",
       "Robert Stevenson     11\n",
       "Jay Chapman          10\n",
       "Manny Rodriguez      10\n",
       "Richard Rich         10\n",
       "Stuart Gillard       10\n",
       "James Algar           9\n",
       "Jay Karas             9\n",
       "dtype: int64"
      ]
     },
     "execution_count": 47,
     "metadata": {},
     "output_type": "execute_result"
    }
   ],
   "source": [
    "movie_dir.sum().nlargest(15)\n"
   ]
  },
  {
   "cell_type": "markdown",
   "id": "c68b3ced",
   "metadata": {},
   "source": [
    "#### OTT Movies for India:"
   ]
  },
  {
   "cell_type": "code",
   "execution_count": 48,
   "id": "0850163d",
   "metadata": {},
   "outputs": [
    {
     "data": {
      "text/html": [
       "<div>\n",
       "<style scoped>\n",
       "    .dataframe tbody tr th:only-of-type {\n",
       "        vertical-align: middle;\n",
       "    }\n",
       "\n",
       "    .dataframe tbody tr th {\n",
       "        vertical-align: top;\n",
       "    }\n",
       "\n",
       "    .dataframe thead th {\n",
       "        text-align: right;\n",
       "    }\n",
       "</style>\n",
       "<table border=\"1\" class=\"dataframe\">\n",
       "  <thead>\n",
       "    <tr style=\"text-align: right;\">\n",
       "      <th></th>\n",
       "      <th>Title</th>\n",
       "      <th>Year</th>\n",
       "      <th>Age</th>\n",
       "      <th>IMDb</th>\n",
       "      <th>Netflix</th>\n",
       "      <th>Hulu</th>\n",
       "      <th>Prime Video</th>\n",
       "      <th>Disney+</th>\n",
       "      <th>Directors</th>\n",
       "      <th>Genres</th>\n",
       "      <th>Country</th>\n",
       "      <th>Language</th>\n",
       "      <th>Runtime</th>\n",
       "    </tr>\n",
       "  </thead>\n",
       "  <tbody>\n",
       "    <tr>\n",
       "      <th>11</th>\n",
       "      <td>3 Idiots</td>\n",
       "      <td>2009</td>\n",
       "      <td>13</td>\n",
       "      <td>8.4</td>\n",
       "      <td>1</td>\n",
       "      <td>0</td>\n",
       "      <td>1</td>\n",
       "      <td>0</td>\n",
       "      <td>Rajkumar Hirani</td>\n",
       "      <td>Comedy,Drama</td>\n",
       "      <td>India</td>\n",
       "      <td>Hindi,English</td>\n",
       "      <td>170.0</td>\n",
       "    </tr>\n",
       "    <tr>\n",
       "      <th>34</th>\n",
       "      <td>Dangal</td>\n",
       "      <td>2016</td>\n",
       "      <td>7</td>\n",
       "      <td>8.4</td>\n",
       "      <td>1</td>\n",
       "      <td>0</td>\n",
       "      <td>0</td>\n",
       "      <td>0</td>\n",
       "      <td>Nitesh Tiwari</td>\n",
       "      <td>Action,Biography,Drama,Sport</td>\n",
       "      <td>India</td>\n",
       "      <td>Hindi</td>\n",
       "      <td>161.0</td>\n",
       "    </tr>\n",
       "    <tr>\n",
       "      <th>38</th>\n",
       "      <td>Like Stars on Earth</td>\n",
       "      <td>2007</td>\n",
       "      <td>7</td>\n",
       "      <td>8.4</td>\n",
       "      <td>1</td>\n",
       "      <td>0</td>\n",
       "      <td>0</td>\n",
       "      <td>0</td>\n",
       "      <td>Aamir Khan,Amole Gupte</td>\n",
       "      <td>Drama,Family</td>\n",
       "      <td>India</td>\n",
       "      <td>Hindi,English</td>\n",
       "      <td>165.0</td>\n",
       "    </tr>\n",
       "    <tr>\n",
       "      <th>81</th>\n",
       "      <td>Lagaan: Once Upon a Time in India</td>\n",
       "      <td>2001</td>\n",
       "      <td>7</td>\n",
       "      <td>8.1</td>\n",
       "      <td>1</td>\n",
       "      <td>0</td>\n",
       "      <td>0</td>\n",
       "      <td>0</td>\n",
       "      <td>Ashutosh Gowariker</td>\n",
       "      <td>Adventure,Drama,Musical,Sport</td>\n",
       "      <td>India</td>\n",
       "      <td>Hindi,English,Awadhi,Urdu</td>\n",
       "      <td>224.0</td>\n",
       "    </tr>\n",
       "    <tr>\n",
       "      <th>88</th>\n",
       "      <td>Bahubali: The Beginning</td>\n",
       "      <td>2015</td>\n",
       "      <td>13</td>\n",
       "      <td>8.1</td>\n",
       "      <td>1</td>\n",
       "      <td>0</td>\n",
       "      <td>0</td>\n",
       "      <td>0</td>\n",
       "      <td>S.S. Rajamouli</td>\n",
       "      <td>Action,Drama</td>\n",
       "      <td>India</td>\n",
       "      <td>Telugu,Tamil</td>\n",
       "      <td>159.0</td>\n",
       "    </tr>\n",
       "    <tr>\n",
       "      <th>...</th>\n",
       "      <td>...</td>\n",
       "      <td>...</td>\n",
       "      <td>...</td>\n",
       "      <td>...</td>\n",
       "      <td>...</td>\n",
       "      <td>...</td>\n",
       "      <td>...</td>\n",
       "      <td>...</td>\n",
       "      <td>...</td>\n",
       "      <td>...</td>\n",
       "      <td>...</td>\n",
       "      <td>...</td>\n",
       "      <td>...</td>\n",
       "    </tr>\n",
       "    <tr>\n",
       "      <th>14890</th>\n",
       "      <td>Kush</td>\n",
       "      <td>2007</td>\n",
       "      <td>18</td>\n",
       "      <td>3.7</td>\n",
       "      <td>0</td>\n",
       "      <td>0</td>\n",
       "      <td>1</td>\n",
       "      <td>0</td>\n",
       "      <td>Shubhashish Bhutiani</td>\n",
       "      <td>Short,Drama,Family,History</td>\n",
       "      <td>India</td>\n",
       "      <td>Hindi</td>\n",
       "      <td>20.0</td>\n",
       "    </tr>\n",
       "    <tr>\n",
       "      <th>14931</th>\n",
       "      <td>Uuf Kya Jadoo Mohobbat Hai</td>\n",
       "      <td>2004</td>\n",
       "      <td>0</td>\n",
       "      <td>4.9</td>\n",
       "      <td>0</td>\n",
       "      <td>0</td>\n",
       "      <td>1</td>\n",
       "      <td>0</td>\n",
       "      <td>Manoj J. Bhatia</td>\n",
       "      <td>Comedy,Romance</td>\n",
       "      <td>India</td>\n",
       "      <td>Hindi</td>\n",
       "      <td>134.0</td>\n",
       "    </tr>\n",
       "    <tr>\n",
       "      <th>14996</th>\n",
       "      <td>Lacchimdeviki O Lekkundi</td>\n",
       "      <td>2016</td>\n",
       "      <td>0</td>\n",
       "      <td>5.3</td>\n",
       "      <td>0</td>\n",
       "      <td>0</td>\n",
       "      <td>1</td>\n",
       "      <td>0</td>\n",
       "      <td>Jagadish Talasila</td>\n",
       "      <td>Comedy,Thriller</td>\n",
       "      <td>India</td>\n",
       "      <td>Telugu</td>\n",
       "      <td>107.0</td>\n",
       "    </tr>\n",
       "    <tr>\n",
       "      <th>15077</th>\n",
       "      <td>Chamku</td>\n",
       "      <td>2008</td>\n",
       "      <td>18</td>\n",
       "      <td>4.1</td>\n",
       "      <td>0</td>\n",
       "      <td>0</td>\n",
       "      <td>1</td>\n",
       "      <td>0</td>\n",
       "      <td>Kabeer Kaushik</td>\n",
       "      <td>Action,Crime,Thriller</td>\n",
       "      <td>India</td>\n",
       "      <td>Hindi,Punjabi,Marathi</td>\n",
       "      <td>105.0</td>\n",
       "    </tr>\n",
       "    <tr>\n",
       "      <th>15822</th>\n",
       "      <td>Machine</td>\n",
       "      <td>2007</td>\n",
       "      <td>18</td>\n",
       "      <td>2.7</td>\n",
       "      <td>0</td>\n",
       "      <td>0</td>\n",
       "      <td>1</td>\n",
       "      <td>0</td>\n",
       "      <td>Abbas Alibhai Burmawalla,Mastan Alibhai Burmaw...</td>\n",
       "      <td>Action,Mystery,Romance,Thriller</td>\n",
       "      <td>India</td>\n",
       "      <td>Hindi</td>\n",
       "      <td>148.0</td>\n",
       "    </tr>\n",
       "  </tbody>\n",
       "</table>\n",
       "<p>358 rows × 13 columns</p>\n",
       "</div>"
      ],
      "text/plain": [
       "                                   Title  Year  Age  IMDb  Netflix  Hulu   \n",
       "11                              3 Idiots  2009   13   8.4        1     0  \\\n",
       "34                                Dangal  2016    7   8.4        1     0   \n",
       "38                   Like Stars on Earth  2007    7   8.4        1     0   \n",
       "81     Lagaan: Once Upon a Time in India  2001    7   8.1        1     0   \n",
       "88               Bahubali: The Beginning  2015   13   8.1        1     0   \n",
       "...                                  ...   ...  ...   ...      ...   ...   \n",
       "14890                               Kush  2007   18   3.7        0     0   \n",
       "14931         Uuf Kya Jadoo Mohobbat Hai  2004    0   4.9        0     0   \n",
       "14996           Lacchimdeviki O Lekkundi  2016    0   5.3        0     0   \n",
       "15077                             Chamku  2008   18   4.1        0     0   \n",
       "15822                            Machine  2007   18   2.7        0     0   \n",
       "\n",
       "       Prime Video  Disney+   \n",
       "11               1        0  \\\n",
       "34               0        0   \n",
       "38               0        0   \n",
       "81               0        0   \n",
       "88               0        0   \n",
       "...            ...      ...   \n",
       "14890            1        0   \n",
       "14931            1        0   \n",
       "14996            1        0   \n",
       "15077            1        0   \n",
       "15822            1        0   \n",
       "\n",
       "                                               Directors   \n",
       "11                                       Rajkumar Hirani  \\\n",
       "34                                         Nitesh Tiwari   \n",
       "38                                Aamir Khan,Amole Gupte   \n",
       "81                                    Ashutosh Gowariker   \n",
       "88                                        S.S. Rajamouli   \n",
       "...                                                  ...   \n",
       "14890                               Shubhashish Bhutiani   \n",
       "14931                                    Manoj J. Bhatia   \n",
       "14996                                  Jagadish Talasila   \n",
       "15077                                     Kabeer Kaushik   \n",
       "15822  Abbas Alibhai Burmawalla,Mastan Alibhai Burmaw...   \n",
       "\n",
       "                                Genres Country                   Language   \n",
       "11                        Comedy,Drama   India              Hindi,English  \\\n",
       "34        Action,Biography,Drama,Sport   India                      Hindi   \n",
       "38                        Drama,Family   India              Hindi,English   \n",
       "81       Adventure,Drama,Musical,Sport   India  Hindi,English,Awadhi,Urdu   \n",
       "88                        Action,Drama   India               Telugu,Tamil   \n",
       "...                                ...     ...                        ...   \n",
       "14890       Short,Drama,Family,History   India                      Hindi   \n",
       "14931                   Comedy,Romance   India                      Hindi   \n",
       "14996                  Comedy,Thriller   India                     Telugu   \n",
       "15077            Action,Crime,Thriller   India      Hindi,Punjabi,Marathi   \n",
       "15822  Action,Mystery,Romance,Thriller   India                      Hindi   \n",
       "\n",
       "      Runtime  \n",
       "11      170.0  \n",
       "34      161.0  \n",
       "38      165.0  \n",
       "81      224.0  \n",
       "88      159.0  \n",
       "...       ...  \n",
       "14890    20.0  \n",
       "14931   134.0  \n",
       "14996   107.0  \n",
       "15077   105.0  \n",
       "15822   148.0  \n",
       "\n",
       "[358 rows x 13 columns]"
      ]
     },
     "execution_count": 48,
     "metadata": {},
     "output_type": "execute_result"
    }
   ],
   "source": [
    "indian_movies = movies[movies.Country =='India']\n",
    "indian_movies"
   ]
  },
  {
   "cell_type": "code",
   "execution_count": 49,
   "id": "49dea7ef",
   "metadata": {},
   "outputs": [
    {
     "name": "stdout",
     "output_type": "stream",
     "text": [
      "Total number of Indian movies: 358\n"
     ]
    }
   ],
   "source": [
    "# Total no of movies in India:\n",
    "print('Total number of Indian movies:',indian_movies['Title'].count() )"
   ]
  },
  {
   "cell_type": "code",
   "execution_count": 50,
   "id": "9a5fe6c0",
   "metadata": {},
   "outputs": [
    {
     "name": "stdout",
     "output_type": "stream",
     "text": [
      "Total number of Indian movies in Netflix     :  195\n",
      "Total number of Indian movies in Hulu        :  2\n",
      "Total number of Indian movies in Prime Video :  201\n",
      "Total number of Indian movies in Disney+     :  0\n"
     ]
    }
   ],
   "source": [
    "print('Total number of Indian movies in Netflix     : ',indian_movies['Netflix'].sum())\n",
    "print('Total number of Indian movies in Hulu        : ',indian_movies['Hulu'].sum() )\n",
    "print('Total number of Indian movies in Prime Video : ',indian_movies['Prime Video'].sum() )\n",
    "print('Total number of Indian movies in Disney+     : ',indian_movies['Disney+'].sum() )\n"
   ]
  },
  {
   "cell_type": "code",
   "execution_count": 51,
   "id": "54e8f20c",
   "metadata": {},
   "outputs": [
    {
     "data": {
      "image/png": "[encoded data removed]",
      "text/plain": [
       "<Figure size 432x288 with 1 Axes>"
      ]
     },
     "metadata": {
      "needs_background": "light"
     },
     "output_type": "display_data"
    }
   ],
   "source": [
    "#Count Age for India:\n",
    "sns.countplot(x=indian_movies['Age'])\n",
    "plt.show()"
   ]
  },
  {
   "cell_type": "code",
   "execution_count": 52,
   "id": "64a6c24d",
   "metadata": {},
   "outputs": [
    {
     "name": "stdout",
     "output_type": "stream",
     "text": [
      "Minimum IMDb rating:  2.4\n",
      "Maximum IMDb rating:  8.7\n"
     ]
    },
    {
     "data": {
      "image/png": "[encoded data removed]",
      "text/plain": [
       "<Figure size 432x288 with 1 Axes>"
      ]
     },
     "metadata": {
      "needs_background": "light"
     },
     "output_type": "display_data"
    }
   ],
   "source": [
    "#Rating range of movies for India:\n",
    "print('Minimum IMDb rating: ', indian_movies['IMDb'].min())\n",
    "print('Maximum IMDb rating: ', indian_movies['IMDb'].max())\n",
    "\n",
    "sns.kdeplot(indian_movies.IMDb, color='orange', shade = True)\n",
    "plt.axvline(indian_movies.IMDb.min(),color='green',label='min')\n",
    "plt.axvline(indian_movies.IMDb.max(),color='red',label='max')\n",
    "plt.legend()\n",
    "plt.title('Ratings Range')\n",
    "plt.show()"
   ]
  },
  {
   "cell_type": "code",
   "execution_count": 53,
   "id": "e58f9032",
   "metadata": {},
   "outputs": [
    {
     "data": {
      "text/plain": [
       "Yash Chopra                  8\n",
       "Priyadarshan                 6\n",
       "Karan Johar                  5\n",
       "Abbas Alibhai Burmawalla     4\n",
       "Aditya Chopra                4\n",
       "Ashutosh Gowariker           4\n",
       "Aziz Mirza                   4\n",
       "Hrishikesh Mukherjee         4\n",
       "Mastan Alibhai Burmawalla    4\n",
       "Sanjay Gadhvi                4\n",
       "dtype: int64"
      ]
     },
     "execution_count": 53,
     "metadata": {},
     "output_type": "execute_result"
    }
   ],
   "source": [
    "#Top 10 Directors for India:\n",
    "movie_dir=indian_movies['Directors'].str.get_dummies(',').sum().nlargest(10)\n",
    "movie_dir"
   ]
  }
 ],
 "metadata": {
  "kernelspec": {
   "display_name": "Python 3 (ipykernel)",
   "language": "python",
   "name": "python3"
  },
  "language_info": {
   "codemirror_mode": {
    "name": "ipython",
    "version": 3
   },
   "file_extension": ".py",
   "mimetype": "text/x-python",
   "name": "python",
   "nbconvert_exporter": "python",
   "pygments_lexer": "ipython3",
   "version": "3.10.4"
  }
 },
 "nbformat": 4,
 "nbformat_minor": 5
}
